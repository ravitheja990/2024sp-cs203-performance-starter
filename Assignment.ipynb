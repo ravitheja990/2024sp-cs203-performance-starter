{
 "cells": [
  {
   "cell_type": "code",
   "execution_count": 21,
   "metadata": {
    "deletable": false,
    "editable": false,
    "init_cell": true,
    "tags": []
   },
   "outputs": [
    {
     "data": {
      "text/html": [
       "<style>div.prompt, code, output, prompt, kbd, pre, samp {font-family: 'SF Mono', 'Courier New', Courier, monospace, sans-serif !important;}</style>"
      ],
      "text/plain": [
       "<IPython.core.display.HTML object>"
      ]
     },
     "metadata": {},
     "output_type": "display_data"
    },
    {
     "name": "stdout",
     "output_type": "stream",
     "text": [
      "Done loading notebook.py! We're good to go!\n",
      "The autoreload extension is already loaded. To reload it, use:\n",
      "  %reload_ext autoreload\n"
     ]
    }
   ],
   "source": [
    "# Please execute/shift-return this cell everytime you run the notebook.  Don't edit it. \n",
    "%load_ext autoreload\n",
    "%autoreload 2\n",
    "from notebook import * "
   ]
  },
  {
   "cell_type": "markdown",
   "metadata": {
    "cs203.is_response": true,
    "deletable": false
   },
   "source": [
    "<div class=\"namebox\">    \n",
    "Double Click to edit and enter your\n",
    "\n",
    "1.  Name Ravi Theja Tangirala\n",
    "2.  Student ID 862466314\n",
    "3.  @ucr.edu email address rtang069@ucr.edu\n",
    "    \n",
    "</div>"
   ]
  },
  {
   "cell_type": "markdown",
   "metadata": {
    "deletable": false,
    "editable": false,
    "tags": []
   },
   "source": [
    "<div style=\" font-size: 300% !important;\n",
    "    margin-top: 1.5em;\n",
    "    margin-bottom: 10px;\n",
    "    font-weight: bold;\n",
    "    line-height: 1.0;\n",
    "    text-align:center;\">\n",
    "Assignment 2: The Performance Equation\n",
    "</div>"
   ]
  },
  {
   "cell_type": "markdown",
   "metadata": {
    "deleteable": false,
    "editable": false,
    "tags": []
   },
   "source": [
    "**Welcome to the first \"real\" assignment of CS203!**\n",
    "\n",
    "The main goals of this assignment are:\n",
    "\n",
    "1.  Gain experience with the performance equation\n",
    "2.  Collect a list of **Interesting Questions** that you probably cannot answer now, but will be able to by the end of the course.\n",
    "\n",
    "This assignment will be completed on **your own**. \n",
    "\n",
    "Check Gradescope for due date(s)."
   ]
  },
  {
   "cell_type": "markdown",
   "metadata": {
    "deletable": false,
    "editable": false
   },
   "source": [
    "# Browser Compatibility"
   ]
  },
  {
   "cell_type": "markdown",
   "metadata": {
    "deleteable": false,
    "editable": false,
    "tags": []
   },
   "source": [
    "We are still working out some bugs in some browsers.  Here's the current status:\n",
    "\n",
    "1.  Chrome -- well tested.  Preferred option.\n",
    "2.  Firefox -- seems ok, but not thoroughly tested.\n",
    "3.  Edge -- seems ok, but not thoroughly tested.\n",
    "4.  Safari -- not supported at the moment.\n",
    "5.  Internet Explorer -- not supported at the moment.\n",
    "\n",
    "At the moment, the authentication step must be done in Chrome."
   ]
  },
  {
   "cell_type": "markdown",
   "metadata": {
    "deleteable": false,
    "editable": false,
    "tags": []
   },
   "source": [
    "# About Assignments In This Class"
   ]
  },
  {
   "cell_type": "markdown",
   "metadata": {
    "deleteable": false,
    "editable": false,
    "tags": []
   },
   "source": [
    "_This section is the same in all the assignments.  It's repeated here for your reference._\n",
    "\n",
    "CS203 assignments are designed in a way to **learn by doing**.  This means you _must_ **do**.  WE have built these assignments as Jupyter notebooks so that the \"doing\" is as easy and seamless as possible. (Largely contributed by Steven Swanson at UCSD https://cseweb.ucsd.edu/~swanson/)\n",
    "\n",
    "In this assignment, what you'll do is answer questions about how a program will run and then compare what really happened to your predictions.  Engaging with this process is how you'll learn.  The questions that the assignment asks are there for several purposes:\n",
    "\n",
    "1.  To draw your attention to specific aspects of an experiment or of some results.\n",
    "2.  To push you to engage with the material more deeply by thinking about it.\n",
    "3.  To make you commit to a prediction so you can wonder why your prediction was wrong or be proud that you got it right.\n",
    "4.  To provide some practice with skills/concepts you're learning in this course.\n",
    "5.  To test your knowledge about what you've learned.\n",
    "\n",
    "The questions are graded in one of three ways:\n",
    "\n",
    "1. \"Correctness\" questions require you to answer the question and get the correct answer to get full credit.\n",
    "2. \"Completeness\" questions require you to answer the question.\n",
    "3. \"Optional\" questions are...optional.  They are there if you want to go further with the material.\n",
    "\n",
    "Some of the \"Completeness\" problems include a solution that will be hidden until you click \"Show Solution\".  To get the most from them, try them on your own first.\n",
    "\n",
    "Many of the \"Completeness\" questions ask you to make predictions about the outcome of an experiment and write down those predictions.  To maximize your learning, think carefully about your prediction and commit to it.  **You will never be penalized for making an incorrect prediction.**\n",
    "\n",
    "You are free to discuss \"Completeness\" and \"Optional\" questions with your classmates.  You must complete \"Correctness\" questions on your own.\n",
    "\n",
    "If you have questions about any kind of question, please ask during office hours or during class."
   ]
  },
  {
   "attachments": {
    "image.png": {
     "image/png": "[encoded data removed]"
    }
   },
   "cell_type": "markdown",
   "metadata": {
    "deleteable": false,
    "editable": false,
    "tags": []
   },
   "source": [
    "## How To Succeed On the Assignments\n",
    "\n",
    "Here are some simple tips that will help you do well on this assignment:\n",
    "\n",
    "1.  Read/skim through the entire assignment and review the lecture/textbook. \n",
    "2.  Start early.  Getting answers on piazza can take time.  So think through the questions (and your questions about them) carefully.\n",
    "    1. Go through the assignment once (several days before the deadline), do the parts that are easy/make sense\n",
    "    2. Ask questions/think about the rest\n",
    "    3. Come back and do the rest.\n",
    "3.  Start early.  The cluster gets busy and slow near deadlines.  **\"The cluster was slow the night of the deadline\"** is **not an excuse** for not getting the assignment done and it is not justification for asking for an extension.\n",
    "4.  Follow the guidelines below for asking answerable questions on piazza.\n",
    "\n",
    "You may think to yourself: \"If I start early enough to account for all that, I'd have to start right after the assignment was announced!\"  Good thought!\n",
    "\n",
    "![image.png](attachment:image.png)\n"
   ]
  },
  {
   "cell_type": "markdown",
   "metadata": {
    "deleteable": false,
    "editable": false,
    "tags": []
   },
   "source": [
    "<div class=\"alert alert-block alert-danger\">\n",
    "\n",
    "**The Cluster Will Get Slow** and our machines will get crowded and slow _before every deadline_.  This is completely predictable.  The cluster can also get crowded due to deadlines in other courses.  You need to start early so you can avoid/work around these slowdowns.  Unless there's some kind of complete outage, we will not grant extensions because the servers are crowded.\n",
    "    \n",
    "</div>"
   ]
  },
  {
   "cell_type": "markdown",
   "metadata": {
    "deleteable": false,
    "editable": false,
    "tags": []
   },
   "source": [
    "## Getting Help\n",
    "\n",
    "You might run into trouble while doing this assignment.  Here's how to get help:\n",
    "\n",
    "1.  Re-read the instructions and make sure you've followed them.\n",
    "2.  Try saving and reloading the notebook.\n",
    "3.  If it says you are not authenticated, go to the [the login section of the assignment](#Logging-In-To-the-Course-Tools) and (re)authenticate.\n",
    "4.  If you get a `FileNotFoundError` make sure you've run all the code cells above your current point in the assignment.\n",
    "4.  If you get an exception or stack dump, check that you didn't accidentally modify the contents of one of the python cells.\n",
    "5.  If all else fails, post a question to piazza.\n",
    "\n",
    "## Posting Answerable Questions on Piazza\n",
    "\n",
    "If you want useful answers on edstem/piazza, you need to provide information that is specific enough for us to provide a useful answer.  Here's what we need:\n",
    "\n",
    "1.  Which part of which assignment are you working on (use the section numbers)?\n",
    "2.  Which problem (copy and paste the _text_ of the question along with the number).\n",
    "\n",
    "If it's question about instructions:\n",
    "\n",
    "1.  Try to be as specific as you can about what is confusing or what you don't understand (e.g., \"I'm not sure if I should do _X_ or _Y_.\")\n",
    "\n",
    "If it's a question about an error while running code, then we need:\n",
    "\n",
    "1.  If you've committed anything, your github repo url.\n",
    "2.  If you've submitted a job with `cs203` you _must_ provide the job id.  With the id, we can figure out just about anything about your job.  Without it, we know nothing.\n",
    "3.  The _entire_ output you received.  There's no limit on how long an edstem/piazza post can be.  Give us all the information, not just the last few lines.  We like to scroll!\n",
    "\n",
    "For all of the above **paste the text** into the edstem/piazza question.  Please **do not provide screen captures**.  The course staff refuses to type in job ids found in screen shots.\n",
    "\n",
    "\n",
    "<div class=\"alert alert-block alert-danger\">\n",
    "\n",
    "**We Can't Answer Unanswerable Questions** If you don't follow these guidelines (especially about the github repo and the job id), we will probably not be able to answer your question on piazza.  We will archive it and ask you to re-post your question with the information we need.\n",
    "    \n",
    "</div>"
   ]
  },
  {
   "cell_type": "markdown",
   "metadata": {
    "deleteable": false,
    "editable": false,
    "tags": []
   },
   "source": [
    "## Keeping Your Assignment Up-to-Date\n",
    "\n",
    "Occasionally, there will be changes made to the base repository after the\n",
    "assignment is released.  This may include bug fixes and updates to this document.  We'll post on piazza/edstem when an update is available.\n",
    "\n",
    "In those cases, you can use the following commands to pull the changes from upstream and merge them into your code.  You'll need to do this at a shell.  It won't work properly in the notebook.  Save your notebook in the browser first.\n"
   ]
  },
  {
   "cell_type": "markdown",
   "metadata": {
    "deleteable": false,
    "tags": []
   },
   "source": [
    "```\n",
    "cd <your directory for this assignment>\n",
    "git remote add upstream $(cat .starter_repo)  # You need to do this once each time you checkout a new assignment. It will fail \n",
    "                                              # harmlessly if you run it more than once.\n",
    "cp Assignment.ipynb Assignment.backup.ipynb                 # Backup your work.\n",
    "git commit -am \"My progress so far.\"          # commit your work.\n",
    "git pull upstream main --allow-unrelated-histories -X theirs # pull the updates\n",
    "```\n",
    "\n",
    "Or you can use the script we provide:"
   ]
  },
  {
   "cell_type": "code",
   "execution_count": null,
   "metadata": {
    "deletable": false,
    "editable": false,
    "tags": []
   },
   "outputs": [],
   "source": [
    "# Be sure to click save to preseve your progress before updating\n",
    "! ./fix-repo\n",
    "! ./pull-updates"
   ]
  },
  {
   "cell_type": "markdown",
   "metadata": {
    "deleteable": false,
    "editable": false,
    "tags": []
   },
   "source": [
    "Then, reload this page in your browser."
   ]
  },
  {
   "cell_type": "markdown",
   "metadata": {
    "deleteable": false,
    "editable": false,
    "tags": []
   },
   "source": [
    "## How To Use This Document\n",
    "\n",
    "You will use Jupyter Notebook to complete this assignment.  You should be able to do much of this assignment without leaving Jupyter Notebook.  The main exception will be some of the programming assignments.  The instructions will make it clear when you should use the terminal.\n",
    "\n",
    "### Running Code\n",
    "\n",
    "Jupyter Notebooks are made up of \"cells\".  Some have Markdown-formatted text in them (like this one).  Some have Python code (like the one below).\n",
    "\n",
    "For code cells, you press `shift-return` to execute the code.  Try it below:"
   ]
  },
  {
   "cell_type": "code",
   "execution_count": null,
   "metadata": {
    "deleteable": false,
    "editable": false,
    "tags": []
   },
   "outputs": [],
   "source": [
    "print(\"I'm in python\")"
   ]
  },
  {
   "cell_type": "markdown",
   "metadata": {
    "deleteable": false,
    "editable": false,
    "tags": []
   },
   "source": [
    "Code cells can also execute shell commands using the `!` operator.  Try it below:"
   ]
  },
  {
   "cell_type": "code",
   "execution_count": null,
   "metadata": {
    "deleteable": false,
    "editable": false,
    "tags": []
   },
   "outputs": [],
   "source": [
    "!echo \"I'm in a shell\""
   ]
  },
  {
   "attachments": {
    "image.png": {
     "image/png": "[encoded data removed]"
    }
   },
   "cell_type": "markdown",
   "metadata": {
    "deleteable": false,
    "editable": false,
    "tags": []
   },
   "source": [
    "### Telling What The Notebook is Doing\n",
    "\n",
    "The notebook will only run one cell at a time, so if you press `shift-return` several times, the cells will wait for one another.  You can tell that a cell is waiting if it there's a `*` in the `[]` to the left the cell:\n",
    "\n",
    "![image.png](attachment:image.png)\n"
   ]
  },
  {
   "attachments": {
    "image.png": {
     "image/png": "[encoded data removed]"
    }
   },
   "cell_type": "markdown",
   "metadata": {
    "deleteable": false,
    "editable": false,
    "tags": []
   },
   "source": [
    "You'll can also tell _where_ the notebook is executing by looking at the table of contents on the left.  The section with the currently-executing cell will be red:\n",
    "\n",
    "![image.png](attachment:image.png)"
   ]
  },
  {
   "attachments": {
    "image.png": {
     "image/png": "[encoded data removed]"
    }
   },
   "cell_type": "markdown",
   "metadata": {
    "deleteable": false,
    "editable": false,
    "tags": []
   },
   "source": [
    "### What to Do Jupyter Notebook It Gets Stuck\n",
    "\n",
    "First, check if it's actually stuck: Some of the cells take a while, but they will usually provide some visual sign of progress.  If _nothing_ is happening for more than 10 seconds, it's probably stuck.\n",
    "\n",
    "To get it unstuck, you stop execution of the current cell with the \"interrupt button\":\n",
    "\n",
    "![image.png](attachment:image.png)"
   ]
  },
  {
   "attachments": {
    "image.png": {
     "image/png": "[encoded data removed]"
    }
   },
   "cell_type": "markdown",
   "metadata": {
    "deleteable": false,
    "editable": false,
    "tags": []
   },
   "source": [
    "You can also restart the underlying python instance (i.e., the confusingly-named \"kernel\" which is not the same thing as the operating system kernel) with the restart button:\n",
    "\n",
    "![image.png](attachment:image.png)\n",
    "\n",
    "Once you do this, all the variables defined by earlier cells are gone, so you may get some errors.  You may need to re-run the cells in the current section to get things to work again.\n",
    "\n",
    "You can also reloading the web page.  That will leave Python kernel intact, but it can help with some problems.\n",
    "\n",
    "### Common Errors and Non-Errors\n",
    "\n",
    "1.  If you get `sh: 0: getcwd() failed: no such file or directory`, restart the kernel.\n",
    "2.  If you get `INFO:MainThread:numexpr.utils:Note: NumExpr detected 40 cores but \"NUMEXPR_MAX_THREADS\" not set, so enforcing safe limit of 8.`.  It's not a real error.  Ignore it. \n",
    "3.  If you get a prompt asking `Do you want to cancel them and run this job?` but you can't reply because you can't type into an output cell in Jupyter notebook, replace `cs203 run` with `cs203 run `. (see useful tip below.)\n",
    "4.  If you get an `Error: Your request failed on the server: 500 Server Error: Internal Server Error for url=http://cs203l-dev.wl.r.appspot.com/file`, trying running the job again."
   ]
  },
  {
   "cell_type": "markdown",
   "metadata": {
    "deleteable": false,
    "editable": false,
    "tags": []
   },
   "source": [
    "### The Embedded Code\n",
    "\n",
    "The code embedded in the assignment falls into two categories:\n",
    "\n",
    "1.  Code you need to edit and understand.\n",
    "2.  Code that you do not need to edit or understand -- it's just there to display something for you.\n",
    "\n",
    "For code in the first category, the assignment will make it clear that you need to study, modify, and/or run the code.  If we don't explicitly ask you to do something, you don't need to.\n",
    "\n",
    "Most of the code in the second category is for drawing graphs.  You can just run it with shift-return to the see the results.  If you are curious, it's mostly written with `Pandas` and `matplotlib`. The code is all in `notebook.py`.   These cells should be un-editable.  However, if you want to experiment with them, you can copy _the contents_ of the cell into a new cell and do whatever you want (If you copy the cell, the copy will also be uneditable).\n",
    "\n",
    "<div class=\"alert alert-block alert-info\">\n",
    "\n",
    "**Most Cells are Immutable** Many of the cells of this notebook are uneditable. The only ones you should edit are some of the code cells and the text cells with questions in them.\n",
    "</div>"
   ]
  },
  {
   "cell_type": "markdown",
   "metadata": {
    "deleteable": false,
    "editable": false,
    "tags": []
   },
   "source": [
    "### Answering Questions\n",
    "\n",
    "Throughout this document, you'll see some questions (like the one below).  You can double click on them to edit them and fill in your answer.  Try not to mess up the formatting (so it's easy for us to grade), but at least make sure your answer shows up clearly.  When you are done editing, you can `shift-return` to make it pretty again.\n",
    "\n",
    "A few tips, pointers, and caveats for answering questions:\n",
    "\n",
    "1. The answers are all in [github-flavored markdown](https://guides.github.com/features/mastering-markdown/) with some html sprinkled in.  Leave the html alone.\n",
    "2. Many answers require you to fill in a table, and many of the `|` characters will be missing.  You'll need to add them back.\n",
    "3. The HTML needs to start at the beginning of a line.  If there are spaces before a tag, it won't render properly.  If you accidentally add white space at the beginning of a line with an html tag on it, you'll need to fix it.\n",
    "4. Text answers also need to start at the beginning of a line, otherwise they will be rendered as code.\n",
    "5. Press `shift-return` or `option-return` to render the cell and make sure it looks good.\n",
    "6. There needs to be a blank line between html tags and markdown.  Otherwise, the markdown formatting will not appear correctly.\n",
    "\n",
    "\n",
    "You'll notice that there are three kinds of questions: \"Correctness\", \"Completeness\", and \"Optional\".  You need to provide an answer to the \"Completeness\" questions, but you won't be graded on its correctness.  You'll need to answer \"Correctness\" questions correctly to get credit.  The \"Optional\" questions are optional."
   ]
  },
  {
   "cell_type": "markdown",
   "metadata": {
    "deleteable": false,
    "editable": false,
    "jp-MarkdownHeadingCollapsed": true,
    "tags": []
   },
   "source": [
    "# Grading\n",
    "\n",
    "Your grade for this assignment will be based on your completion and submission of this notebook.\n",
    "\n",
    "| Part                       | value |\n",
    "|----------------------------|-------|\n",
    "| Jupyter Notebook           | 50%   |\n",
    "| Programming Assignment     | 48%    |\n",
    "| Post-assignment survey            | 2%    |\n",
    "\n",
    "We will grade 5 of the \"completeness\" problems.  They are worth 3 points each.  We will grade all of the \"correctness\" questions.\n",
    "\n",
    "Check Gradescope for the due dates.\n",
    "\n",
    "Instructions for submitting the assignment are at the end of the assignment.\n",
    "\n",
    "No late work or extensions will be allowed."
   ]
  },
  {
   "cell_type": "markdown",
   "metadata": {
    "deleteable": false,
    "editable": false,
    "tags": []
   },
   "source": [
    "# Skills to Learn\n",
    "\n",
    "1. Think code and predict its behavior."
   ]
  },
  {
   "cell_type": "markdown",
   "metadata": {
    "deleteable": false,
    "editable": false,
    "tags": []
   },
   "source": [
    "# Analyzing Program Behavior with the Performance Equation"
   ]
  },
  {
   "cell_type": "markdown",
   "metadata": {
    "deletable": false,
    "editable": false
   },
   "source": [
    "<div class=\"alert alert-block alert-info\">\n",
    "\n",
    "**Keep track of questions you have.**  \n",
    "    \n",
    "This assignment is more about collecting questions than finding answers.  I've called out some interesting questions throughout the assignment.  The last question of the assignment asks for _other_ questions you had while examining the data you'll collect below, so keep track of them as you work through the assignment.\n",
    "\n",
    "</div>"
   ]
  },
  {
   "cell_type": "markdown",
   "metadata": {
    "deleteable": false,
    "editable": false,
    "tags": []
   },
   "source": [
    "## Meet the Code!\n",
    "\n",
    "In this assignment we are going to analyze a few simple funtions in`microbench.cpp`.  The first is `baseline_int()`:"
   ]
  },
  {
   "cell_type": "code",
   "execution_count": null,
   "metadata": {
    "deleteable": false,
    "editable": false,
    "init_cell": true,
    "tags": []
   },
   "outputs": [],
   "source": [
    "render_code(\"microbench.cpp\", show=\"baseline_int\")"
   ]
  },
  {
   "cell_type": "markdown",
   "metadata": {
    "deleteable": false,
    "editable": false,
    "tags": []
   },
   "source": [
    "`baseline_int()`  initilizes `array` and then does some multiplies and additions to update it's contents.  It's not a useful computation, so don't spend time trying to figure out what it does.\n",
    "\n",
    "Fill the following cell to compile the code and create `microbench.exe`, and then run it:"
   ]
  },
  {
   "cell_type": "code",
   "execution_count": null,
   "metadata": {
    "deleteable": false,
    "editable": false,
    "tags": []
   },
   "outputs": [],
   "source": [
    "!make clean; make microbench.exe\n",
    "!cs203 run \"./microbench.exe\""
   ]
  },
  {
   "cell_type": "markdown",
   "metadata": {
    "deleteable": false,
    "editable": false,
    "tags": []
   },
   "source": [
    "As you can see, there are quite a few command line options for such a simple program.   These options are the interface to the data collection library we will be using in the class.  They control how our \"functions under test\" (FUTs) (i.e., `baseline_int()`) will be run.  We'll learn about them in more details as the quarter progresses.\n",
    "\n",
    "For now, let's use three arguments:\n",
    "\n",
    "* `-f` to run `baseline_int`\n",
    "* `-o` to put the results in `first.csv`\n",
    "* `-r` will run the test 2 times\n",
    "* `-s` will run tests on two different sized arrays.\n",
    "\n",
    "`microbenchmark.exe` will run all the funtions listed after `-f ` for all the array sizes given by `--size`, and it will do it all 2 times, so that's a total of 4 measurements it will take.\n",
    "\n",
    "We can submit the job to our server:"
   ]
  },
  {
   "cell_type": "code",
   "execution_count": null,
   "metadata": {
    "deleteable": false,
    "editable": false,
    "tags": []
   },
   "outputs": [],
   "source": [
    "!cs203 run \"./microbench.exe -o first.csv -r 2 -s 1024 2048 -f baseline_int\""
   ]
  },
  {
   "cell_type": "markdown",
   "metadata": {
    "deleteable": false,
    "editable": false,
    "tags": []
   },
   "source": [
    "`first.csv` contains some data about how the program run.  You can see the raw data:"
   ]
  },
  {
   "cell_type": "code",
   "execution_count": null,
   "metadata": {
    "deleteable": false,
    "editable": false,
    "tags": []
   },
   "outputs": [],
   "source": [
    "!cat first.csv"
   ]
  },
  {
   "cell_type": "markdown",
   "metadata": {
    "deleteable": false,
    "editable": false,
    "tags": []
   },
   "source": [
    "And render it nicely:"
   ]
  },
  {
   "cell_type": "code",
   "execution_count": null,
   "metadata": {
    "deletable": false,
    "editable": false,
    "tags": []
   },
   "outputs": [],
   "source": [
    "display_mono(render_csv(\"first.csv\"))"
   ]
  },
  {
   "cell_type": "markdown",
   "metadata": {
    "deleteable": false,
    "editable": false,
    "tags": []
   },
   "source": [
    "Here's what the column means:\n",
    "\n",
    "1.  `size` is the size of the `array`\n",
    "2. `rep` is the 'repetition number' (explained below).\n",
    "3.  `function` is the the function in this line is for.\n",
    "4.  `IC` is the number of dynamic instructions the program ran.\n",
    "5.  `Cycles` is the number of CPU cycles the program ran.\n",
    "6.  `MHz` is the average CPU clock speed when running the program.\n",
    "7.  `ET` is the number of seconds the program ran.\n",
    "8.  Ignore `Unnamed: 8` its existence is a bug I haven't had time to fix.\n",
    "\n",
    "Let's focus on a few columns:"
   ]
  },
  {
   "cell_type": "code",
   "execution_count": null,
   "metadata": {
    "deletable": false,
    "editable": false
   },
   "outputs": [],
   "source": [
    "display_mono(render_csv(\"first.csv\", columns=[\"function\", \"rep\", \"size\"]))"
   ]
  },
  {
   "cell_type": "markdown",
   "metadata": {
    "deletable": false,
    "editable": false
   },
   "source": [
    "## Measuring The Performance Equation\n",
    "Now that we know how to take measurements, we can try to understand `baseline_int()`'s performance.  We will do this using the performance equation:\n",
    "\n",
    "```\n",
    "ET = IC * CPI * CT\n",
    "```\n",
    "\n",
    "So, we'll need to measure `IC` (instruction count), `CPI` (cycles per instruction), `CT` (cycle time), and `ET`, and we'll do that using \"performance counters\".  `microbench.exe` already has support for performance counters built in, we just need to tell it to collect data.  We can do that using the command below.  Here's what the additions to the command line mean.\n",
    "\n",
    "1. `-r` will run the test 25 times so we can average across lots of runs.\n",
    "2.  We set the clock speed to 3300 MHz with `-M 3300`.\n",
    "\n",
    "**Performance counters _only_ work on the cloud servers.** In fact, the program will fail locally:"
   ]
  },
  {
   "cell_type": "code",
   "execution_count": null,
   "metadata": {
    "deleteable": false,
    "editable": false,
    "tags": []
   },
   "outputs": [],
   "source": [
    "!./microbench.exe -o inst_count.csv -r 25 -f baseline_int"
   ]
  },
  {
   "cell_type": "markdown",
   "metadata": {
    "deletable": false,
    "editable": false
   },
   "source": [
    "So run it in the cloud:"
   ]
  },
  {
   "cell_type": "code",
   "execution_count": null,
   "metadata": {
    "deleteable": false,
    "editable": false,
    "tags": []
   },
   "outputs": [],
   "source": [
    "!cs203 run './microbench.exe -o inst_count.csv -M 3300 -r 25 -function baseline_int'"
   ]
  },
  {
   "cell_type": "code",
   "execution_count": null,
   "metadata": {
    "deletable": false,
    "editable": false
   },
   "outputs": [],
   "source": [
    "display_mono(render_csv(\"inst_count.csv\", columns=columns, average_by=\"size\")) # Compute averages across all the reps."
   ]
  },
  {
   "cell_type": "markdown",
   "metadata": {
    "deleteable": false,
    "editable": false,
    "tags": []
   },
   "source": [
    "We are going to see a lot of data like this so, let's be clear about what they mean:\n",
    "\n",
    "| size| IC | CPI | CT | ET | cmdlineMHz|MHz|\n",
    "|-----|----|-----|----|----|-----------|-------|\n",
    "| size of `array` |  dynamic instructions executed | Cycles/instruction | Cycle Time | Execution Time  | MHz value from the command line| Measured MHZ|\n",
    "\n",
    "Note that `-M` parameter and the reported `MHz` don't quite match.  This is due to noise in how we measure elapsed time and \"cold start\" effects which cause the very first repetition to be much noiser than than the others."
   ]
  },
  {
   "cell_type": "markdown",
   "metadata": {
    "deleteable": false,
    "editable": false,
    "tags": []
   },
   "source": [
    "## Instruction Count\n",
    "\n",
    "Let's see how changing the instruction count (`IC`) affects performance.  There are two ways we can increase instruction count for `baseline_int()`:\n",
    "\n",
    "1.  We can run the same experiment multiple times.\n",
    "2.  We can increase the size of `array` with the `--size` parameter."
   ]
  },
  {
   "cell_type": "markdown",
   "metadata": {
    "deletable": false,
    "editable": false,
    "tags": []
   },
   "source": [
    "### Running The Experiment Mutiple Times\n",
    "\n",
    "So far we've been passing `-r` (reps) to control how many times we run an experiment.  This helps smooth out noise in the measurement, but we can crank it up to increase IC.  We'll run it 3 times with 25, 50, and 100 reps.\n",
    "\n",
    "<div class=\"alert alert-block alert-info\">\n",
    "\n",
    "**Try to predict the answer to questions _before_ you look at the results.**  \n",
    "\n",
    "The goal of this question (and many more to follow) is for you to predict the answer and then see if the results match your intuition.  Don't be discouraged if you frequently get the prediction wrong:  They are intentionally challenging.  Also, a major goal of the assignment is to highlight behavior that seems _non-intuitive_ so you can _improve your intuition_.\n",
    "</div\n",
    "\n",
    "Kick off the experiment below and the answer this question:"
   ]
  },
  {
   "cell_type": "markdown",
   "metadata": {
    "cs203.is_response": true,
    "cs203.points": 1,
    "cs203.question_type": "completeness",
    "deletable": false,
    "editable": false,
    "tags": []
   },
   "source": [
    "<div class=\"alert alert-block alert-success\"><div class=\"question completeness\">\n",
    "\n",
    "### Question 1 (Completeness)\n",
    "    \n",
    "In a moment, you'll see four graphs that show how each term of the performance equation changes as we increase `--reps`.  What _shape_ do you think each curve will have (linear? curved?) and what _direction_ will it go (increasing? Decreasing? flat?)?  For each term, predict the ratio between it's value at 100 and 25 (i.e., `value_at_100/value_at_25`).\n",
    "    \n",
    "</div>\n",
    "</div>"
   ]
  },
  {
   "cell_type": "code",
   "execution_count": null,
   "metadata": {
    "deleteable": false,
    "editable": false,
    "tags": []
   },
   "outputs": [],
   "source": [
    "#This takes a while...\n",
    "!cs203 run './microbench.exe -o 25.csv -r 25 -f baseline_int'\n",
    "!cs203 run './microbench.exe -o 50.csv -r 50 -f baseline_int'\n",
    "!cs203 run './microbench.exe -o 100.csv -r 100 -f baseline_int'\n"
   ]
  },
  {
   "cell_type": "code",
   "execution_count": null,
   "metadata": {
    "cs203.is_response": true,
    "deletable": false,
    "tags": []
   },
   "outputs": [],
   "source": [
    "df = IC_avg_and_combine(\"25.csv\", \"50.csv\", \"100.csv\")\n",
    "display_mono(df)\n",
    "plotPE(df=df, lines=True, what=[ ('reps', \"IC\"), (\"reps\", \"CPI\"), (\"reps\", \"CT\"), (\"reps\", \"ET\") ], columns=4)\n",
    "df[[\"reps\"] +  columns]"
   ]
  },
  {
   "cell_type": "markdown",
   "metadata": {
    "cs203.is_response": true,
    "cs203.points": 1,
    "cs203.question_type": "completeness",
    "deletable": false
   },
   "source": [
    "<div class=\"alert alert-block alert-success\"> \n",
    "Answer:\n",
    "<div class=\"answer\">\n",
    "\n",
    "|                        | IC      | CPI | CT | ET |\n",
    "|------------------------|---------|-----|----|----|\n",
    "|Shape                   | [PUT YOUR ANSWERS IN THE TABLE]       |     |    |    | \n",
    "|Direction               |         |     |    |    |\n",
    "|100 vs 25 ratio         |         |     |    |    |    \n",
    "\n",
    "</div>\n",
    "</div>"
   ]
  },
  {
   "cell_type": "markdown",
   "metadata": {
    "cs203.is_response": true,
    "cs203.points": 4,
    "cs203.question_type": "correctness",
    "deletable": false,
    "editable": false
   },
   "source": [
    "<div class=\"alert alert-block alert-success\">\n",
    "    <div class=\"question correctness points-4\">\n",
    "\n",
    "### Question 2 (Correctness)\n",
    "\n",
    "Use the code cell below to compute the actual ratio of the values at `reps = 100` and `reps = 25` and enter them in the table below.  How does these results differ from what you expected?   \n",
    "    </div>\n",
    "</div>"
   ]
  },
  {
   "cell_type": "code",
   "execution_count": null,
   "metadata": {
    "cs203.is_response": true,
    "cs203.points": 4,
    "cs203.question_type": "correctness",
    "deletable": false,
    "tags": []
   },
   "outputs": [],
   "source": [
    "# Your code here"
   ]
  },
  {
   "cell_type": "markdown",
   "metadata": {
    "cs203.is_response": true,
    "cs203.points": 4,
    "cs203.question_type": "correctness",
    "deletable": false
   },
   "source": [
    "<div class=\"alert alert-block alert-success\">\n",
    "Answer:\n",
    "<div class=\"answer\">\n",
    "\n",
    "|                     | IC      | CPI | CT | ET |\n",
    "|---------------------|---------|-----|----|----|\n",
    "|100 vs 25 reps ratio | <PUT YOUR ANSWER IN THE TABLE> \n",
    "|Differences compared to your expectations (if any):| | | | |\n",
    "\n",
    "\n",
    "\n",
    "</div>\n",
    "</div>"
   ]
  },
  {
   "cell_type": "markdown",
   "metadata": {
    "deleteable": false,
    "editable": false,
    "tags": []
   },
   "source": [
    "### Increasing the Size of `array`\n",
    "\n",
    "Instead of increasing `reps` we can increase the size of `array` so we'll run the same computation over more data.\n",
    "We will vary the size over a very large range: 10,000 to 20,480,000.\n",
    "\n",
    "Kick off the cell below to collect the data.  While it's running answer this question:"
   ]
  },
  {
   "cell_type": "markdown",
   "metadata": {
    "cs203.is_response": true,
    "cs203.points": 1,
    "cs203.question_type": "completeness",
    "deletable": false,
    "editable": false,
    "tags": []
   },
   "source": [
    "<div class=\"alert alert-block alert-success\"><div class=\"question completeness\">\n",
    "\n",
    "### Question 3 (Completeness)\n",
    "\n",
    "\n",
    "\n",
    "This time, the four graphs will show each term of the performance equation changes as we increase `-size`.  What _shape_ do you think each curve will have (linear? curved?) and what _direction_ will it go (increasing? Decreasing? flat?)? For each term, predict the ratio between it's value at 20,480,000 and its value at 320,000. Compute the actual ratio of the values at 20,480,000 and 320,000.  How does these results differ from what you expected? \n",
    "\n",
    "</div>\n",
    "</div>"
   ]
  },
  {
   "cell_type": "code",
   "execution_count": null,
   "metadata": {
    "deleteable": false,
    "editable": false,
    "tags": []
   },
   "outputs": [],
   "source": [
    "!cs203 run './microbench.exe -o array_size.csv -reps 25 -M 3300 -function baseline_int -size 10000 20000  40000 80000 160000 320000 640000 1280000 2560000 5120000  10240000  20480000'\n"
   ]
  },
  {
   "cell_type": "code",
   "execution_count": null,
   "metadata": {
    "cs203.is_response": true,
    "deletable": false,
    "editable": false,
    "tags": []
   },
   "outputs": [],
   "source": [
    "\n",
    "plotPE(\"array_size.csv\", lines=True, what=[ ('size', \"IC\"), (\"size\", \"CPI\"), (\"size\", \"CT\"),(\"size\", \"ET\")], columns=5, average_by=\"size\")\n",
    "display_mono(render_csv(\"array_size.csv\", columns=columns, average_by=\"size\"))"
   ]
  },
  {
   "cell_type": "markdown",
   "metadata": {
    "cs203.is_response": true,
    "cs203.points": 1,
    "cs203.question_type": "completeness",
    "deletable": false
   },
   "source": [
    "<div class=\"alert alert-block alert-success\">\n",
    "<div class=\"answer\">\n",
    "\n",
    "**Answer**\n",
    "\n",
    "|                        | IC      | CPI | CT | ET |\n",
    "|------------------------|---------|-----|----|----|\n",
    "|Shape                   |         |     |    |    | \n",
    "|Direction               |         |     |    |    |\n",
    "|20,480,000 vs 320,000 ratio (your expectation) |         |     |    |    |    \n",
    "|20,480,000 vs 320,000 ratio (real measurememnt) |         |     |    |    |\n",
    "\n",
    "</div>\n",
    "</div>"
   ]
  },
  {
   "attachments": {
    "image.png": {
     "image/png": "[encoded data removed]"
    }
   },
   "cell_type": "markdown",
   "metadata": {
    "deleteable": false,
    "tags": []
   },
   "source": [
    "<div class=\"alert alert-block alert-info\">\n",
    "\n",
    "**Interesting Question:**  \n",
    "    \n",
    "Why does increasing the size of `array` change CPI?  And why does this change occur so quickly?\n",
    "    \n",
    "    \n",
    "![image.png](attachment:image.png)\n",
    "</div>"
   ]
  },
  {
   "cell_type": "markdown",
   "metadata": {
    "deleteable": false,
    "editable": false,
    "tags": []
   },
   "source": [
    "## Cycle Time\n",
    "\n",
    "Next, we'll take a look at how clock rate affects performance.  Before we do, though, let's see what our options are for clock rate on our machine:"
   ]
  },
  {
   "cell_type": "code",
   "execution_count": null,
   "metadata": {
    "deleteable": false,
    "editable": false,
    "tags": []
   },
   "outputs": [],
   "source": [
    "!cs203 run 'cpupower frequency-info -n'"
   ]
  },
  {
   "cell_type": "markdown",
   "metadata": {
    "deleteable": false,
    "editable": false,
    "tags": []
   },
   "source": [
    "As you can see, the processors in our target systems can run between 800MHz and 4300MHz.\n",
    "\n",
    "Let's see how that affects things by plotting execution time as a function of clock speed (we are skipping 800MHz for the moment.  We'll come back to it.).  The readings for the current clock speed may vary from run to run.  It just ends up at whatever the last experiment left it at.\n",
    "\n",
    "Kick off the cell below to collect the data.  While it's running answer this question:"
   ]
  },
  {
   "cell_type": "markdown",
   "metadata": {
    "cs203.is_response": true,
    "cs203.points": 1,
    "cs203.question_type": "completeness",
    "deletable": false,
    "tags": []
   },
   "source": [
    "<div class=\"alert alert-block alert-success\">\n",
    "<div class=\"question completeness\">\n",
    "\n",
    "### Question 4 (Completeness)\n",
    "\n",
    "\n",
    "We are going to plot four graphs that show how each term of the performance equation changes as we increase clock rate.  What _shape_ do you think each curve will have (linear? curved?) and what _direction_ will it go (increasing? Decreasing? flat?)?  For each term, predict the ratio between its value at 3300MHz and its value at 1700Mhz. Compute the actual ratio of the values at 3300MHz and 1700MHZ. How do these results differ from what you expected? How much speedup does double doubling the clock rate provide?\n",
    "\n",
    "</div>\n",
    "</div>"
   ]
  },
  {
   "cell_type": "code",
   "execution_count": null,
   "metadata": {
    "deleteable": false,
    "editable": false,
    "tags": []
   },
   "outputs": [],
   "source": [
    "!cs203 run './microbench.exe -o cycle_time.csv -M 800 1700 3300  -f baseline_int -r 50'"
   ]
  },
  {
   "cell_type": "code",
   "execution_count": null,
   "metadata": {
    "cs203.is_response": true,
    "deletable": false,
    "editable": false,
    "tags": []
   },
   "outputs": [],
   "source": [
    "plotPE(\"cycle_time.csv\", lines=True, what=[ ('cmdlineMHz', \"IC\"), (\"cmdlineMHz\", \"CPI\"), (\"cmdlineMHz\", \"CT\"), (\"cmdlineMHz\", \"ET\") ], columns=4, average_by=\"cmdlineMHz\")\n",
    "display_mono(render_csv(\"cycle_time.csv\", columns=columns, average_by=\"cmdlineMHz\"))"
   ]
  },
  {
   "cell_type": "markdown",
   "metadata": {
    "cs203.is_response": true,
    "cs203.points": 1,
    "cs203.question_type": "completeness",
    "deletable": false
   },
   "source": [
    "<div class=\"alert alert-block alert-success\">\n",
    "Answer:\n",
    "    <div class=\"answer\">\n",
    "\n",
    "|                     | IC      | CPI | CT | ET | \n",
    "|---------------------|---------|-----|----|----|\n",
    "|Shape                |         |     |    |    | \n",
    "|Direction            |         |     |    |    |\n",
    "|3300MHz/1700Mhz ratio (your expectation) |         |     |    |    |    \n",
    "|3300MHz/1700Mhz ratio (real measurement) |         |     |    |    |   \n",
    "        \n",
    "        \n",
    "Speedup = ?\n",
    "\n",
    "    \n",
    "</div>\n",
    "</div>"
   ]
  },
  {
   "attachments": {
    "image.png": {
     "image/png": "[encoded data removed]"
    }
   },
   "cell_type": "markdown",
   "metadata": {
    "deleteable": false,
    "tags": []
   },
   "source": [
    "<div class=\"alert alert-block alert-info\">\n",
    "\n",
    "**Interesting question:**\n",
    "\n",
    "How can clock rate affect `CPI`?\n",
    "    \n",
    "![image.png](attachment:image.png)\n",
    "\n",
    "</div>"
   ]
  },
  {
   "cell_type": "markdown",
   "metadata": {
    "deleteable": false,
    "editable": false,
    "tags": []
   },
   "source": [
    "## Cycles Per Instruction\n",
    "\n",
    "Unlike `IC` and `CT` we can't set `CPI` directly, but we can adjust the code and see how `CPI` changes.  We'll do this in two ways.  First, we'll change the data type we are operating on. Then, we'll change the compiler options.  Finally, we'll restructure the code.\n",
    "\n",
    "### Floating Point vs Integer Operations\n",
    "\n",
    "Here's `baseline_double()` (on the left) that is identical to `baseline_int()` (on the right) but uses 64-bit floating point values (of type `double`) point instead of 64-bit integers (`uint64_t`):"
   ]
  },
  {
   "cell_type": "code",
   "execution_count": null,
   "metadata": {
    "deleteable": false,
    "editable": false,
    "init_cell": true,
    "tags": []
   },
   "outputs": [],
   "source": [
    "compare([do_render_code(\"microbench.cpp\", show=\"baseline_double\"),\n",
    "        do_render_code(\"microbench.cpp\", show=\"baseline_int\")])\n",
    "     "
   ]
  },
  {
   "cell_type": "markdown",
   "metadata": {
    "deleteable": false,
    "editable": false,
    "tags": []
   },
   "source": [
    "Kick off the the cell below to run both functions, and answer this question:"
   ]
  },
  {
   "cell_type": "markdown",
   "metadata": {
    "cs203.is_response": true,
    "cs203.points": 1,
    "cs203.question_type": "completeness",
    "deletable": false,
    "editable": false
   },
   "source": [
    "<div class=\"alert alert-block alert-success\"><div class=\"question completeness\">\n",
    "\n",
    "### Question 5 (Completeness)\n",
    "\n",
    "What was your expectations on the results? How did the results for each term in the CPU performance equation differ from your predictions (if they did)?\n",
    "\n",
    "</div>\n",
    "    <div>\n",
    "        "
   ]
  },
  {
   "cell_type": "code",
   "execution_count": null,
   "metadata": {
    "deleteable": false,
    "tags": []
   },
   "outputs": [],
   "source": [
    "!make microbench.exe\n",
    "!cs203 run './microbench.exe -o int_double.csv  -r 25 -M 3300 -function baseline_int baseline_double'\n"
   ]
  },
  {
   "cell_type": "code",
   "execution_count": null,
   "metadata": {
    "deleteable": false,
    "tags": []
   },
   "outputs": [],
   "source": [
    "plotPEBar(\"int_double.csv\", what=[ ('function', \"IC\"), (\"function\", \"CPI\"), (\"function\", \"CT\"), (\"function\", \"ET\") ], \n",
    "          columns=4, average_by=\"function\")\n",
    "display_mono(render_csv(\"int_double.csv\", columns=[\"IC\", \"CPI\", \"CT\", \"ET\",], average_by=\"function\"))"
   ]
  },
  {
   "cell_type": "markdown",
   "metadata": {
    "cs203.is_response": true,
    "cs203.points": 1,
    "cs203.question_type": "completeness",
    "deletable": false
   },
   "source": [
    "<div class=\"alert alert-block alert-success\"><div class=\"question completeness\">    \n",
    "<div class=\"answer\">\n",
    "\n",
    "**IC:**\n",
    "\n",
    "**CPI:**\n",
    "\n",
    "**CT:**\n",
    "\n",
    "**ET:**\n",
    "    \n",
    "</div>\n",
    "    \n",
    "</div>\n",
    "</div>"
   ]
  },
  {
   "cell_type": "markdown",
   "metadata": {
    "cs203.is_response": true,
    "cs203.question_type": "optional",
    "deletable": false,
    "editable": false
   },
   "source": [
    "<div class=\"alert alert-block alert-success\"><div class=\"question optional\">\n",
    "\n",
    "### Question 6 (Optional)</h3> \n",
    " \n",
    "In `microbench.cpp` there are also `baseline_char()` and `baseline_float()`. Copy the code cells above and modify them to see how those functions compare.  What did you find?\n",
    "    \n",
    "</div>\n",
    "</div>"
   ]
  },
  {
   "cell_type": "markdown",
   "metadata": {
    "cs203.is_response": true,
    "cs203.question_type": "optional",
    "deletable": false
   },
   "source": [
    "<div class=\"alert alert-block alert-success\">  \n",
    "<div class=\"answer\">\n",
    "Answer:\n",
    "    \n",
    "</div>\n",
    "</div>    "
   ]
  },
  {
   "attachments": {
    "image.png": {
     "image/png": "[encoded data removed]"
    }
   },
   "cell_type": "markdown",
   "metadata": {
    "deleteable": false,
    "editable": false,
    "tags": []
   },
   "source": [
    "<div class=\"alert alert-block alert-success\">\n",
    "\n",
    "**Interesting question:** How and why do the datatypes we use change `IC` and `CPI`?\n",
    "    \n",
    "![image.png](attachment:image.png)\n",
    "    \n",
    "_Does anyone else think this version of the \"thinking\" emoji looks like an alien?_\n",
    "</div>"
   ]
  },
  {
   "cell_type": "markdown",
   "metadata": {
    "deletable": false,
    "editable": false,
    "tags": []
   },
   "source": [
    "### Code Structure\n",
    "\n",
    "These two functions increment all the elements in an array by `1.0`, but they do it slightly different ways."
   ]
  },
  {
   "cell_type": "code",
   "execution_count": null,
   "metadata": {
    "deleteable": false,
    "editable": false,
    "init_cell": true,
    "tags": []
   },
   "outputs": [],
   "source": [
    "compare([do_render_code(\"microbench.cpp\", show=\"matrix_row_major\"),\n",
    "         do_render_code(\"microbench.cpp\", show=\"matrix_column_major\")])"
   ]
  },
  {
   "cell_type": "markdown",
   "metadata": {
    "deleteable": false,
    "editable": false,
    "tags": []
   },
   "source": [
    "We'll run both versions and compare their performance.  Kick off the  experiment below and answer this question:"
   ]
  },
  {
   "cell_type": "markdown",
   "metadata": {
    "cs203.is_response": true,
    "cs203.points": 1,
    "cs203.question_type": "correctness",
    "deletable": false,
    "editable": false
   },
   "source": [
    "<div class=\"alert alert-block alert-success\"><div class=\"question completeness\">\n",
    "\n",
    "### Question 7 (Completeness)\n",
    "\n",
    "  \n",
    "If `size` is equal to 8,388,608 how many times will \"This Line\" execute in each function?  Do you think one will be faster than the other?  Why?\n",
    "    \n",
    "</div>"
   ]
  },
  {
   "cell_type": "markdown",
   "metadata": {
    "cs203.is_response": true,
    "cs203.points": 1,
    "cs203.question_type": "completeness",
    "deletable": false
   },
   "source": [
    "<div class=\"alert alert-block alert-success\">  \n",
    "Answer:\n",
    "<div class=\"answer\">\n",
    "        \n",
    "**How many times does `This Line` execute in `matrix_row_major()`:**\n",
    "\n",
    "\n",
    "    \n",
    "**How many times does `This Line` execute in `matrix_column_major()`:**\n",
    "\n",
    "\n",
    "    \n",
    "**Is there any difference in the \"Big-O\" running time of these two functions?**\n",
    "\n",
    "\n",
    "    \n",
    "**Do you think one will be faster than the other?  Why?**\n",
    "</div>\n",
    "</div>"
   ]
  },
  {
   "cell_type": "markdown",
   "metadata": {
    "deleteable": false,
    "editable": false,
    "tags": []
   },
   "source": [
    "Now, let's run the code an see if it meets your expectation!"
   ]
  },
  {
   "cell_type": "code",
   "execution_count": null,
   "metadata": {
    "deleteable": false,
    "scrolled": true,
    "tags": []
   },
   "outputs": [],
   "source": [
    "!cs203 run  './microbench.exe -o matrix.csv -s 8388608 -r 25  -M 3300 -f  matrix_row_major matrix_column_major'"
   ]
  },
  {
   "cell_type": "markdown",
   "metadata": {
    "cs203.is_response": true,
    "cs203.points": 1,
    "cs203.question_type": "completeness",
    "deletable": false,
    "editable": false
   },
   "source": [
    "<div class=\"alert alert-block alert-success\"><div class=\"question completeness\">\n",
    "\n",
    "### Question 8 (Correctness)\n",
    "\n",
    "\n",
    "Calculate the speedup of `matrix_row_major` over `matrix_column_major`.  Why is this result surprising?\n",
    "\n",
    "</div>\n",
    "</div>"
   ]
  },
  {
   "cell_type": "code",
   "execution_count": null,
   "metadata": {
    "cs203.is_response": true,
    "deleteable": false,
    "tags": []
   },
   "outputs": [],
   "source": [
    "plotPEBar(\"matrix.csv\", what=[ ('function', \"IC\"), (\"function\", \"CPI\"), (\"function\", \"CT\"), (\"function\", \"ET\") ], average_by=\"function\", columns=4, skip=2)\n",
    "display_mono(render_csv(\"matrix.csv\", columns=[\"IC\", \"CPI\", \"CT\", \"ET\"], average_by=\"function\"))"
   ]
  },
  {
   "cell_type": "markdown",
   "metadata": {
    "cs203.is_response": true,
    "cs203.points": 1,
    "cs203.question_type": "completeness",
    "deletable": false
   },
   "source": [
    "<div class=\"alert alert-block alert-success\">\n",
    "Answer:\n",
    "    <div class=\"answer\">\n",
    "\n",
    "**Speedup:**\n",
    "    \n",
    "\n",
    "    \n",
    "**Why is this surprising?:**\n",
    "\n",
    "\n",
    "</div>\n",
    "</div>"
   ]
  },
  {
   "attachments": {
    "image.png": {
     "image/png": "[encoded data removed]"
    }
   },
   "cell_type": "markdown",
   "metadata": {
    "deleteable": false,
    "tags": []
   },
   "source": [
    "<div class=\"alert alert-block alert-info\">\n",
    "\n",
    "**Interesting Question:** Why does the order in which the program performs calculations affect `CPI`?\n",
    "    \n",
    "![image.png](attachment:image.png)\n",
    "</div>"
   ]
  },
  {
   "cell_type": "markdown",
   "metadata": {
    "deleteable": false,
    "editable": false,
    "tags": []
   },
   "source": [
    "### The Compiler's Effect\n",
    "\n",
    "`microbench.cpp` contains the following function:"
   ]
  },
  {
   "cell_type": "code",
   "execution_count": null,
   "metadata": {
    "deleteable": false,
    "editable": false,
    "tags": []
   },
   "outputs": [],
   "source": [
    "render_code(\"microbench.cpp\", show=\"baseline_int_O4\")"
   ]
  },
  {
   "cell_type": "markdown",
   "metadata": {
    "deleteable": false,
    "editable": false,
    "tags": []
   },
   "source": [
    "It's identical to `baseline_int()` except that for the `__attribute__ ((optimize(4)))` which is a little bit of `gcc` magic to optimize this functions as much as it can (it's the equivalent of passing `-O4` on the command line but just for this function).\n",
    "\n",
    "Let's see how optimizations affect performance.  Kick off the experiment in the cell below and answer this question while it runs:"
   ]
  },
  {
   "cell_type": "markdown",
   "metadata": {
    "cs203.is_response": true,
    "cs203.points": 1,
    "cs203.question_type": "completeness",
    "deletable": false,
    "editable": false
   },
   "source": [
    "<div class=\"alert alert-block alert-success\"><div class=\"question completeness\">\n",
    "\n",
    "### Question 9 (Completeness)\n",
    "\n",
    "\n",
    "Based on the data you run, describe in words what affect the optimizations had on the code and the value of each term of the PE. \n",
    "    \n",
    "</div>\n",
    "</div>"
   ]
  },
  {
   "cell_type": "code",
   "execution_count": null,
   "metadata": {
    "deletable": false,
    "editable": false
   },
   "outputs": [],
   "source": [
    "!cs203 run './microbench.exe -s 1048576 -o opt.csv  -r 25  -M 3300 -f  baseline_int baseline_int_O4 '"
   ]
  },
  {
   "cell_type": "code",
   "execution_count": null,
   "metadata": {
    "cs203.is_response": true,
    "deletable": false,
    "editable": false
   },
   "outputs": [],
   "source": [
    "plotPEBar(\"opt.csv\", what=[ ('function', \"IC\"), (\"function\", \"CPI\"), (\"function\", \"CT\"), (\"function\", \"ET\") ], columns=4, average_by=\"function\")\n",
    "display_mono(render_csv(\"opt.csv\", columns=[\"function\",\"IC\", \"CPI\", \"CT\", \"ET\",], average_by=\"function\"))"
   ]
  },
  {
   "cell_type": "markdown",
   "metadata": {
    "cs203.is_response": true,
    "cs203.points": 1,
    "cs203.question_type": "completeness",
    "deletable": false
   },
   "source": [
    "<div class=\"alert alert-block alert-success\">  \n",
    "<div class=\"answer\">\n",
    "    \n",
    "Answer -- how compiler optimization affects?\n",
    "\n",
    "**IC:**\n",
    "    \n",
    "**CPI:**\n",
    "    \n",
    "**CT:**\n",
    "\n",
    "**ET:**\n",
    "   \n",
    "    \n",
    "\n",
    "</div>\n",
    "</div>"
   ]
  },
  {
   "cell_type": "markdown",
   "metadata": {
    "deletable": false,
    "editable": false,
    "tags": []
   },
   "source": [
    "### Hardware acceleration\n",
    "\n",
    "With programmer and compiler's effort, we can pretty much max out the performance on a specific hardware. As we learned in CS203, the recent trend showing that CPU performance is slowly improving. Can we leverage other hardware for better performance? \n",
    "\n",
    "The following just show you the CUDA/GPU code that implements the `baseline_int` function. You don't need to understand what the code is doing for now."
   ]
  },
  {
   "cell_type": "code",
   "execution_count": null,
   "metadata": {
    "deletable": false,
    "editable": false
   },
   "outputs": [],
   "source": [
    "render_code(\"microbench_cuda.cu\", show=[\"START_GPU\",\"END_GPU\"])"
   ]
  },
  {
   "cell_type": "code",
   "execution_count": null,
   "metadata": {
    "deletable": false,
    "editable": false
   },
   "outputs": [],
   "source": [
    "!make microbench_cuda.exe\n",
    "!cs203 run './microbench_cuda.exe -s 1048576 -o opt.csv  -r 25  -M 3300 -f  baseline_int baseline_int_O4 baseline_int_cuda'"
   ]
  },
  {
   "cell_type": "code",
   "execution_count": null,
   "metadata": {
    "cs203.is_response": true,
    "deletable": false,
    "editable": false
   },
   "outputs": [],
   "source": [
    "plotPEBar(\"opt.csv\", what=[ ('function', \"IC\"), (\"function\", \"CPI\"), (\"function\", \"CT\"), (\"function\", \"ET\") ], columns=4, average_by=\"function\")\n",
    "display_mono(render_csv(\"opt.csv\", columns=[\"function\",\"IC\", \"CPI\", \"CT\", \"ET\",], average_by=\"function\"))"
   ]
  },
  {
   "cell_type": "markdown",
   "metadata": {
    "cs203.is_response": true,
    "cs203.points": 1,
    "cs203.question_type": "completeness",
    "deletable": false,
    "editable": false
   },
   "source": [
    "<div class=\"alert alert-block alert-success\"><div class=\"question completeness\">\n",
    "\n",
    "### Question 10 (Correctness)\n",
    "\n",
    "\n",
    "Based on the data above, please compute the speedup of using GPU over CPU on `baseline_int` function. \n",
    "    \n",
    "</div>\n",
    "</div>"
   ]
  },
  {
   "cell_type": "markdown",
   "metadata": {
    "cs203.is_response": true,
    "cs203.points": 1,
    "cs203.question_type": "completeness",
    "deletable": false
   },
   "source": [
    "<div class=\"alert alert-block alert-success\">  \n",
    "<div class=\"answer\">\n",
    "    \n",
    "Speedup -- please show your work\n",
    "   \n",
    "    \n",
    "\n",
    "</div>\n",
    "</div>"
   ]
  },
  {
   "cell_type": "markdown",
   "metadata": {
    "deleteable": false,
    "editable": false,
    "tags": []
   },
   "source": [
    "# Amdahl's Law"
   ]
  },
  {
   "cell_type": "markdown",
   "metadata": {
    "deletable": false,
    "editable": false
   },
   "source": [
    "Recall from CS203 that Amdahl's Law limits the speed up an optimization can provide.  It's given as \n",
    "\n",
    "$$S_{tot} = \\frac{1}{\\left(\\frac{x}{S}\\right) + (1-x)}$$\n",
    "\n",
    "Where $S$ is the speedup provided by the optimization, $x$ is the fraction of execution time affected by the optimization, and $S_{tot}$ is total speedup.\n",
    "\n",
    "The function below (also in `microbench.cpp`) calls two of the other functions we have studied."
   ]
  },
  {
   "cell_type": "code",
   "execution_count": null,
   "metadata": {
    "deleteable": false,
    "editable": false,
    "init_cell": true,
    "tags": []
   },
   "outputs": [],
   "source": [
    "render_code(\"microbench.cpp\", show=\"everything\")"
   ]
  },
  {
   "cell_type": "code",
   "execution_count": null,
   "metadata": {
    "deletable": false,
    "editable": false
   },
   "outputs": [],
   "source": [
    "!rm microbench_cuda.exe; make microbench_cuda.exe\n",
    "!cs203 run  './microbench_cuda.exe -o everything.csv -s 8388608 -r 25  -M 3300 -f  matrix_column_major baseline_int everything'"
   ]
  },
  {
   "cell_type": "code",
   "execution_count": null,
   "metadata": {
    "cs203.is_response": true,
    "deletable": false,
    "editable": false
   },
   "outputs": [],
   "source": [
    "display_mono(render_csv(\"everything.csv\", columns=[\"IC\", \"CPI\", \"CT\", \"ET\"], average_by=\"function\"))"
   ]
  },
  {
   "cell_type": "markdown",
   "metadata": {
    "deletable": false,
    "editable": false
   },
   "source": [
    "Imagine that you are a manager and your team is tasked with the improving the performance of `everything()`.  Members of your team propose two different approaches:\n",
    "\n",
    "1.  Option 1: Replacing `baseline_int()` with GPU accelerated `baseline_int_cuda()`\n",
    "2.  Option 2: Replacing `matrix_column_major()` with `matrix_row_major()`.\n",
    "\n",
    "To answer the question below you'll need to look at some csv files you created above.  For convenience, you can display them here, like so:"
   ]
  },
  {
   "cell_type": "code",
   "execution_count": null,
   "metadata": {
    "cs203.is_response": true,
    "deletable": false,
    "editable": false,
    "tags": []
   },
   "outputs": [],
   "source": [
    "\n",
    "display(render_csv(\"matrix.csv\", columns=columns, average_by=\"function\"))\n",
    "display(render_csv(\"opt.csv\", columns=columns, average_by=\"function\"))"
   ]
  },
  {
   "cell_type": "markdown",
   "metadata": {
    "cs203.is_response": true,
    "cs203.points": 4,
    "cs203.question_type": "correctness",
    "deletable": false,
    "editable": false
   },
   "source": [
    "<div class=\"alert alert-block alert-success\"><div class=\"question correctness points-4\">\n",
    "\n",
    "### Question 11 (Correctness)\n",
    "\n",
    "\n",
    "Based on the data you collected in Question 8 and 10 of this assignment for the performance of `baseline_int()`, `baseline_int_cuda()`, `matrix_column_major()`, and `matrix_row_major()`, use Amdahl's law to predict the speedup of each approach.  (Show your work, including the values of `x` and `S` and how you computed them.)\n",
    "\n",
    "**Option 1 (Replacing `baseline_int()` with `baseline_int_cuda()`) Speedup:**\n",
    "\n",
    "**Option 2 (Replacing `matrix_column_major()` with `matrix_row_major()`) Speedup:**\n",
    "</div>\n",
    "</div>\n",
    "    "
   ]
  },
  {
   "cell_type": "markdown",
   "metadata": {
    "cs203.is_response": true,
    "cs203.points": 4,
    "cs203.question_type": "correctness",
    "deletable": false
   },
   "source": [
    "<div class=\"alert alert-block alert-success\">\n",
    "\n",
    "Answer:\n",
    "\n",
    "<div class=\"answer\">\n",
    "\n",
    "**Option 1 (Replacing `baseline_int()` with `baseline_int_cuda()`) Speedup:**\n",
    "\n",
    "x = \n",
    "    \n",
    "S = (Hint: you computed this in the previous question) \n",
    "\n",
    "S_tot = \n",
    "\n",
    "\n",
    "\n",
    "\n",
    "\n",
    "**Option 2 (Replacing `matrix_column_major()` with `matrix_row_major()`) Speedup:**\n",
    "\n",
    "x = \n",
    "    \n",
    "S = (Hint: you computed this in the previous question)\n",
    "\n",
    "S_tot = \n",
    "\n",
    "\n",
    "\n",
    "\n",
    "\n",
    "\n",
    "</div>\n",
    "</div>"
   ]
  },
  {
   "cell_type": "markdown",
   "metadata": {
    "deletable": false,
    "editable": false,
    "tags": []
   },
   "source": [
    "`microbench.cpp` has implementaitons of both options:"
   ]
  },
  {
   "cell_type": "code",
   "execution_count": null,
   "metadata": {
    "deletable": false,
    "editable": false,
    "init_cell": true,
    "tags": []
   },
   "outputs": [],
   "source": [
    "render_code(\"microbench.cpp\", show=\"option_1\")\n",
    "render_code(\"microbench.cpp\", show=\"option_2\")"
   ]
  },
  {
   "cell_type": "markdown",
   "metadata": {
    "deletable": false,
    "editable": false,
    "tags": []
   },
   "source": [
    "Let's see how they perform:"
   ]
  },
  {
   "cell_type": "code",
   "execution_count": null,
   "metadata": {
    "deletable": false,
    "editable": false
   },
   "outputs": [],
   "source": [
    "!cs203 run   './microbench_cuda.exe -o options.csv -s 8388608 -r 25  -M 3300 -f  option_1 option_2 '"
   ]
  },
  {
   "cell_type": "code",
   "execution_count": null,
   "metadata": {
    "cs203.is_response": true,
    "deletable": false,
    "editable": false
   },
   "outputs": [],
   "source": [
    "display_mono(render_csv(\"options.csv\", columns=[\"IC\", \"CPI\", \"CT\", \"ET\"], average_by=\"function\"))"
   ]
  },
  {
   "cell_type": "markdown",
   "metadata": {
    "cs203.is_response": true,
    "cs203.points": 2,
    "cs203.question_type": "correctness",
    "deletable": false,
    "editable": false
   },
   "source": [
    "<div class=\"alert alert-block alert-success\"><div class=\"question correctness points-2\">\n",
    "\n",
    "\n",
    "### Question 12 (Correctness)\n",
    "\n",
    "\n",
    "What was the actual speedup for each option?  Did Amdahl's law get it right? \n",
    "\n",
    "**Option 1 speedup:**\n",
    "\n",
    "\n",
    "    \n",
    "**Option 2 speedup:**\n",
    "\n",
    "\n",
    "\n",
    "**Did Amdahl's Law get it right?:** \n",
    "</div>\n",
    "</div>"
   ]
  },
  {
   "cell_type": "markdown",
   "metadata": {
    "cs203.is_response": true,
    "cs203.points": 2,
    "cs203.question_type": "correctness",
    "deletable": false
   },
   "source": [
    "<div class=\"alert alert-block alert-success\">\n",
    "\n",
    "**Answer:**\n",
    "\n",
    "<div class=\"answer\">\n",
    "    \n",
    "\n",
    "**Option 1 speedup:**\n",
    "\n",
    "\n",
    "    \n",
    "**Option 2 speedup:**\n",
    "\n",
    "\n",
    "\n",
    "**Did Amdahl's Law get it right?:** \n",
    "\n",
    "\n",
    "    \n",
    "</div>\n",
    "</div>\n",
    "</div>\n",
    "    "
   ]
  },
  {
   "cell_type": "markdown",
   "metadata": {
    "deletable": false,
    "editable": false
   },
   "source": [
    "# Throughput and Latency"
   ]
  },
  {
   "cell_type": "markdown",
   "metadata": {
    "deletable": false,
    "editable": false
   },
   "source": [
    "Throughput and latency are two concepts that are completely different, but people often get confused. Throughput presents the \"amount of work that could be done within a given period of time\" and latency means the amount of time necessary for each instance. In this section, we will introduce another optimization of the `baseline_double()` function using NVIDIA's GPU.\n",
    "\n",
    "Before we go through the GPU/CUDA code, let's revisit the ```baseline_double``` function again."
   ]
  },
  {
   "cell_type": "code",
   "execution_count": null,
   "metadata": {
    "deletable": false,
    "editable": false
   },
   "outputs": [],
   "source": [
    "render_code(\"microbench.cpp\", show=\"baseline_double\")"
   ]
  },
  {
   "cell_type": "markdown",
   "metadata": {
    "cs203.is_response": true,
    "cs203.points": 2,
    "cs203.question_type": "correctness",
    "deletable": false,
    "editable": false
   },
   "source": [
    "<div class=\"alert alert-block alert-success\"><div class=\"question correctness points-2\">\n",
    "\n",
    "\n",
    "### Question 13 (Correctness)\n",
    "\n",
    "\n",
    "Read through the code of ```baseline_double``` function carefully, what is the total ammount of \"floating point ALU operations\" that  ```baseline_double``` function will perform when ```size``` is 8388608?\n",
    "</div>\n",
    "</div>"
   ]
  },
  {
   "cell_type": "markdown",
   "metadata": {
    "cs203.is_response": true,
    "cs203.points": 2,
    "cs203.question_type": "correctness",
    "deletable": false
   },
   "source": [
    "<div class=\"alert alert-block alert-success\">\n",
    "Answer:\n",
    "\n",
    "<div class=\"answer\">\n",
    "\n",
    "\n",
    "**What is the total ammount of \"floating point ALU operations when size is 8388608**\n",
    "\n",
    "    \n",
    "</div>\n",
    "</div>\n",
    "</div>\n",
    "    "
   ]
  },
  {
   "cell_type": "markdown",
   "metadata": {
    "deletable": false,
    "editable": false,
    "tags": []
   },
   "source": [
    "Below you can compare the GPU implementation of `baseline_double()` in three functions: `baseline_double_cuda()`, `baseline_double_cuda_kernel()` and `baseline_double_cuda_init()`:"
   ]
  },
  {
   "cell_type": "code",
   "execution_count": null,
   "metadata": {
    "deletable": false,
    "editable": false,
    "tags": []
   },
   "outputs": [],
   "source": [
    "render_code(\"microbench_cuda.cu\", lang=\"c++\", show=[\"//START\",\"//END\"])"
   ]
  },
  {
   "cell_type": "markdown",
   "metadata": {
    "deletable": false,
    "editable": false
   },
   "source": [
    "Again, you don't have to understand why the CUDA code is implemented in this way since we're not a GPU programming class. But you need to believe that these three functions together would lead to the same amount of floating point computation on the GPUs as running ```baseline_double``` function on the CPU.\n",
    "\n",
    "Now, let's try to compile and run the GPU/CUDA code on our server"
   ]
  },
  {
   "cell_type": "code",
   "execution_count": null,
   "metadata": {
    "deletable": false,
    "editable": false
   },
   "outputs": [],
   "source": [
    "!rm -f build/*.o; make microbench_cuda.exe\n",
    "!cs203 run './microbench_cuda.exe -o gpu_cpu.csv -s 8388608 -r 50  -M 3300 -f baseline_double_cuda baseline_double'"
   ]
  },
  {
   "cell_type": "markdown",
   "metadata": {
    "deletable": false,
    "editable": false
   },
   "source": [
    "And render the result nicely!"
   ]
  },
  {
   "cell_type": "code",
   "execution_count": null,
   "metadata": {
    "cs203.is_response": true,
    "deletable": false,
    "editable": false
   },
   "outputs": [],
   "source": [
    "plotPEBar(\"gpu_cpu.csv\", what=[ ('function', \"IC\"), (\"function\", \"CPI\"), (\"function\", \"CT\"), (\"function\", \"ET\") ], \n",
    "          columns=4, average_by=\"function\")\n",
    "display_mono(render_csv(\"gpu_cpu.csv\", columns=[\"IC\", \"CPI\", \"CT\", \"ET\",], average_by=\"function\"))"
   ]
  },
  {
   "cell_type": "markdown",
   "metadata": {
    "deletable": false,
    "editable": false
   },
   "source": [
    "A metric that is frequently used to advertise the capability of GPUs is \"FLOPS\". FLOPS means the \"floating point operations per second\". Therefore, it fulfills the definition of **throughput**. The following questions will help us examine if FLOPS is a good performance metric."
   ]
  },
  {
   "cell_type": "markdown",
   "metadata": {
    "cs203.is_response": true,
    "cs203.points": 4,
    "cs203.question_type": "correctness",
    "deletable": false,
    "editable": false
   },
   "source": [
    "<div class=\"alert alert-block alert-success\"><div class=\"question correctness points-5\">\n",
    "\n",
    "### Question 14 (Correctness)\n",
    "\n",
    "\n",
    "Does the FLOPS reflects the performance? \n",
    "\n",
    "**How many \"FLOPS\" (floating point operations per second) of the CPU when performing `baseline_double()` function with size as 8388608? :**\n",
    "\n",
    "**How many \"FLOPS\" (floating point operations per second) of the GPU when performing `baseline_double_cuda()` function with size as 8388608? :**\n",
    "\n",
    "**Compare the ratio of FLOPS and latency of running `baseline_double()` and `baseline_double_cuda()` functions, do they match? Why and why not?**\n",
    "</div>    \n",
    "</div>"
   ]
  },
  {
   "cell_type": "markdown",
   "metadata": {
    "cs203.is_response": true,
    "cs203.points": 1,
    "cs203.question_type": "correctness",
    "deletable": false
   },
   "source": [
    "<div class=\"alert alert-block alert-success\">\n",
    "Answer:\n",
    "<div class=\"answer\">\n",
    "\n",
    "\n",
    "|function                    | floating point per second (FLOPS) |FLOPS ratio | ET | Speedup |\n",
    "|----------------------------|----------------------------|-----|---|---|\n",
    "| `baseline_double()`        |                            |   1 |  | 1 |\n",
    "| `baseline_double_cuda()` |                            |     |  |   |\n",
    "\n",
    "\n",
    "**Compare the ratio of FLOPS and latency of running `baseline_double()` and `baseline_double_cuda()` functions, do they match? Why and why not?**\n",
    "</div>\n",
    "</div>"
   ]
  },
  {
   "cell_type": "code",
   "execution_count": null,
   "metadata": {
    "deletable": false,
    "editable": false,
    "tags": []
   },
   "outputs": [],
   "source": [
    "!cs203 run   './microbench_cuda.exe -o gpu_cpu_65536.csv -s 65536 -r 50  -M 3300 -f baseline_double_cuda baseline_double'"
   ]
  },
  {
   "cell_type": "markdown",
   "metadata": {
    "deletable": false,
    "editable": false
   },
   "source": [
    "And again, plot the result nicely."
   ]
  },
  {
   "cell_type": "code",
   "execution_count": null,
   "metadata": {
    "cs203.is_response": true,
    "deletable": false,
    "editable": false
   },
   "outputs": [],
   "source": [
    "plotPEBar(\"gpu_cpu_65536.csv\", what=[ ('function', \"IC\"), (\"function\", \"CPI\"), (\"function\", \"CT\"), (\"function\", \"ET\") ], \n",
    "          columns=4, average_by=\"function\")\n",
    "display_mono(render_csv(\"gpu_cpu_65536.csv\", columns=[\"IC\", \"CPI\", \"CT\", \"ET\",], average_by=\"function\"))"
   ]
  },
  {
   "cell_type": "markdown",
   "metadata": {
    "cs203.is_response": true,
    "cs203.points": 1,
    "cs203.question_type": "correctness",
    "deletable": false,
    "editable": false
   },
   "source": [
    "<div class=\"alert alert-block alert-success\"><div class=\"question correctness points-2\">\n",
    "\n",
    "### Question 15 (Correctness)\n",
    "\n",
    "Does FLOPS reflects the latency when sizes changes?\n",
    "    \n",
    "**Compare the latency of running `baseline_double()` and `baseline_double_cuda()` with size as 65536, does FLOPS in Q14\n",
    "reflect the performance? Why or why not?**\n",
    "</div>\n",
    "</div>"
   ]
  },
  {
   "cell_type": "markdown",
   "metadata": {
    "cs203.is_response": true,
    "cs203.points": 1,
    "cs203.question_type": "correctness",
    "deletable": false
   },
   "source": [
    "<div class=\"alert alert-block alert-success\">\n",
    "Answer:\n",
    "<div class=\"answer\">\n",
    "\n",
    "**Compare the latency of running `baseline_double()` and `baseline_double_cuda()` with size as 65536, does FLOPS in Q14 reflect the performance? Why or why not?**\n",
    "</div>\n",
    "</div>"
   ]
  },
  {
   "cell_type": "markdown",
   "metadata": {
    "deletable": false,
    "editable": false,
    "tags": []
   },
   "source": [
    "# Programming Assignment"
   ]
  },
  {
   "cell_type": "markdown",
   "metadata": {
    "deletable": false,
    "editable": false
   },
   "source": [
    "The programming assignment is a warm up for the programming assignments.  The assignment is to optimize the performance of the function below.\n",
    "\n",
    "Here's how to approach this.  \n",
    "\n",
    "1. Read through the whole thing and run the example code in the code cells.  \n",
    "2. Do your work in the \"Do Your Work Here\" section.  It has the key commands you'll need to evaluate and analyze your results.\n",
    "3. When you are happy with your implementation, answer the questions in \"Analyzing Your Implementation\".\n",
    "4. When you are all done, go to the Final Measurement section and follow those instructions.\n",
    "\n",
    "## Join\n",
    "\n",
    "Join is an essential operation that a modern SQL-based database system must support. Join scans through two tables can compare a selected key column from both tables. When an entry from one table's key column matches the key column from another table, the query engine will join these two entries together for further operations. The following is a simple join example. \n",
    "\n",
    "```SELECT COUNT(*) FROM PERSON WHERE A.AGE == B.TARGET ```\n",
    "\n",
    "In this SQL query, where we try to match an entry from A with its AGE matches the TARGET in an enrty from table B and return the number of matches.\n",
    "\n",
    "In this programming assignment, you are reponsible for improving the performance of a baseline implementation of range queries and achieve 8$\\times$ speedup!\n",
    "\n",
    "## The Function"
   ]
  },
  {
   "cell_type": "code",
   "execution_count": null,
   "metadata": {
    "deletable": false,
    "editable": false
   },
   "outputs": [],
   "source": [
    "render_code(\"join_count_baseline.cpp\", show=\"join_count\")"
   ]
  },
  {
   "cell_type": "markdown",
   "metadata": {
    "deletable": false,
    "editable": false
   },
   "source": [
    "The function takes two arrays: one contains a list of random integers (`left_table`) representing a column from a table while the other  (`right_table`) representing the key join column from the other table. For each query, the function checks how many values in `left_table` are equal to right_table.  Then it returns the total count of matching records.\n",
    "\n",
    "Your task is simple: make it run as quickly as possible.\n",
    "\n",
    "## Compiling, Running, Measuring\n",
    "\n",
    "For programming assignments, you'll need to use some shell commands.  You have a couple choices:\n",
    "\n",
    "1.  You can work in the jupyter notebook using the `!` character to run shell commands in code cells.  They are all provided below.\n",
    "2.  You can open up an terminal in Jupyter notebook.\n",
    "\n",
    "You can also switch between any of these options.  The shell commands all run in the same directory structure.\n",
    "\n",
    "Here are the key pieces of information you'll need for this programming assignment:\n",
    "\n",
    "1.  The source file you'll editing is `join_count.cpp`.\n",
    "2.  To build the executable (`join_count.exe`), you can type `make join_count.exe`.\n",
    "\n",
    "You can run `join_count.exe` locally for testing.  It supports several command line options:\n",
    "\n",
    "* `-f` to run `join_count` or `join_count_solution`\n",
    "* `-o` to put the results in `benchmark.csv`\n",
    "* `-r` will run the test several times\n",
    "* `-s` will run tests on the desired `left_table` sizes.\n",
    "* `-q` will run tests on the desired `right_table` sizes."
   ]
  },
  {
   "cell_type": "code",
   "execution_count": null,
   "metadata": {
    "deletable": false,
    "editable": false
   },
   "outputs": [],
   "source": [
    "!make clean ; make join_count.exe\n",
    "!cs203 run \"./join_count.exe -f join_count join_count_solution -M 3300 -o benchmark.csv\""
   ]
  },
  {
   "cell_type": "code",
   "execution_count": null,
   "metadata": {
    "deletable": false,
    "editable": false,
    "tags": []
   },
   "outputs": [],
   "source": [
    "display(render_csv(\"benchmark.csv\"))"
   ]
  },
  {
   "cell_type": "markdown",
   "metadata": {
    "deletable": false,
    "editable": false,
    "tags": []
   },
   "source": [
    "The output of the program is in `result` and the execution time is in `ET`."
   ]
  },
  {
   "cell_type": "markdown",
   "metadata": {
    "deletable": false,
    "editable": false
   },
   "source": [
    "## You Implementations\n",
    "\n",
    "The starter code for `join_count.cpp` has one solution in it: `join_count_solution()`.    The baseline (unoptimized) implementation is in `join_count_baseline.cpp` and is called `join_count()`.  `join_count_solution()` in `join_count.cpp` should eventually contain your best implementation, and that's what we will grade.  You can add as many other implementations to `join_count.cpp` as you'd like.  \n",
    "\n",
    "## Setting Compiler Flags\n",
    "\n",
    "There are two ways to set compiler flags for your code.  When you turn you code into the autograder for credit, you'll need to add the compiler flags in `config.make`.  Here's the initial contents:"
   ]
  },
  {
   "cell_type": "code",
   "execution_count": null,
   "metadata": {
    "deletable": false,
    "editable": false,
    "tags": []
   },
   "outputs": [],
   "source": [
    "render_code(\"config.make\")"
   ]
  },
  {
   "cell_type": "markdown",
   "metadata": {
    "deletable": false,
    "editable": false,
    "tags": []
   },
   "source": [
    "So, it will compile your code with no optimizations.\n",
    "\n",
    "To edit `config.make`, you can click the \"jupyterhub\" logo of the top left to get back to the home page of jupyterhub. Then, you can double click the file to edit to launch a vscode instance.\n",
    "\n",
    "You can also pass `QUERY_OPTIMIZE` to make.  Run this cell and the `-finline-functions` appears in the command that compiles `join_count.cpp`."
   ]
  },
  {
   "cell_type": "code",
   "execution_count": null,
   "metadata": {
    "deletable": false,
    "editable": false
   },
   "outputs": [],
   "source": [
    "!make clean\n",
    "!make join_count.exe QUERY_OPTIMIZE=-finline-functions"
   ]
  },
  {
   "cell_type": "code",
   "execution_count": null,
   "metadata": {
    "deletable": false,
    "editable": false
   },
   "outputs": [],
   "source": [
    "!cs203 run \"./join_count.exe -f join_count join_count_solution -M 3300 -o benchmark.csv\"\n",
    "display(render_csv(\"benchmark.csv\"))"
   ]
  },
  {
   "cell_type": "markdown",
   "metadata": {
    "deletable": false,
    "editable": false
   },
   "source": [
    "## Things To Try\n",
    "\n",
    "Here are some suggestions on how to approach the assignment.\n",
    "\n",
    "1.  Make sure to set appropriate compiler flags\n",
    "2.  Think about _what_ `join_count()` is trying to achieve rather than _how_ it is doing it. \n",
    "3.  If you had to achieve the same thing, how would you approach it?\n",
    "4.  How does `join_count()` use each of its data structures?  What operations does it apply to each of them?\n",
    "5.  Is there a better choice of data structure?\n",
    "6.  The C++ standard template library is available for you to use.\n",
    "\n",
    "You can assume that both `left_table` and `right_table` has lots of entries.\n",
    "\n",
    "To achieve the target speedup you will need to modify the code/algorithm _and_ apply compiler optimizations.\n"
   ]
  },
  {
   "cell_type": "markdown",
   "metadata": {
    "deletable": false,
    "editable": false,
    "tags": []
   },
   "source": [
    "## Do Your Work Here\n",
    "\n",
    "This section is a workspace for you to do the assignment.  It has the basic commands you'll need to get through it.  You may find it useful to expand and add to this section. Go crazy!\n",
    "\n",
    "### Compile And Run"
   ]
  },
  {
   "cell_type": "code",
   "execution_count": null,
   "metadata": {
    "deletable": false,
    "tags": []
   },
   "outputs": [],
   "source": [
    "# Please edit this cell for your purpose -- replacing the \"ALL\" with functions to be examined.\n",
    "!make clean\n",
    "!make join_count.exe\n",
    "!cs203 run \"./join_count.exe -f join_count join_count_solution -M 3300 -o benchmark.csv\""
   ]
  },
  {
   "cell_type": "markdown",
   "metadata": {
    "deletable": false,
    "editable": false,
    "tags": []
   },
   "source": [
    "## Analyzing Your Implementation\n",
    "\n",
    "Complete these questions after you've completed your solution to programming assignment.\n",
    "\n",
    "To achieve a good speedup on this assignment you needed to apply both compiler optimizations and algorithm changes.  \n",
    "Optimizations can interact with each other in surprising ways. \n",
    "Let's see how each contributed to the overall speedup.\n",
    "\n",
    "(The cell below should contain the code for your `join_count_solution()`, and the TAs will refer to it while grading.  If your code isn't showing up here, rerun the cell.  If it still doesn't show up, add a text cell and paste in your function.)"
   ]
  },
  {
   "cell_type": "code",
   "execution_count": null,
   "metadata": {
    "deletable": false,
    "editable": false,
    "tags": []
   },
   "outputs": [],
   "source": [
    "render_code(\"join_count.cpp\", show=\"join_count_solution\")\n",
    "render_code(\"config.make\")"
   ]
  },
  {
   "cell_type": "markdown",
   "metadata": {
    "deletable": false,
    "editable": false,
    "tags": []
   },
   "source": [
    "The rest of the assignment is about measuring the contribution of compiler optimizations vs algorithmic optimizations.  The result of the your investigation will go into the question below.\n",
    "\n",
    "The first step is to collect the data.  \n",
    "\n",
    "The cell below will run four different versions of the experiment:\n",
    "\n",
    "1.  The `join_count` with compiler optimizations.\n",
    "2.  The `join_count` without compiler optimizations.\n",
    "3.  The `join_count_solution` with compiler optimizations.\n",
    "4.  The `join_count_solution` without compiler optimizations.\n",
    "\n",
    "It uses tags to differentiate between the optimized and un-optimized versions."
   ]
  },
  {
   "cell_type": "code",
   "execution_count": null,
   "metadata": {
    "deletable": false,
    "tags": []
   },
   "outputs": [],
   "source": [
    "!make clean\n",
    "!make join_count.exe\n",
    "!cs203 run \"./join_count.exe  -M 3300 -f join_count join_count_solution -o opt.csv\"\n",
    "!make clean\n",
    "# This overrides config.make and forces no optimizations.\n",
    "!make join_count.exe QUERY_OPTIMIZE=\n",
    "!cs203 run \"./join_count.exe  -M 3300 -f join_count join_count_solution -o noopt.csv\""
   ]
  },
  {
   "cell_type": "markdown",
   "metadata": {
    "deletable": false,
    "editable": false
   },
   "source": [
    "Now you need to create a data frame that contains the results the experiment in form that we can plot.  In particular you need to:\n",
    "\n",
    "1. Open the `csv` file created by the command above and load them into two dataframes.\n",
    "2. Combine them into one data frame\n",
    "3. Compute a new column that has \"function name-optimization level\" in it (e.g., `join_count-noopt`).\n",
    "4. Compute the speedup of all four implementations relative to `join_count-noopt`.\n",
    "5. Plot the resulting graph.\n",
    "\n",
    "There are examples of the tools you'll need for this in the \"Useful Tools\" section above.\n",
    "    \n",
    "**You must show your work.**  In the cell below, put the your code to do all of the above.\n",
    "\n",
    "The resulting dataframe should look like this (but with data in it):\n",
    "\n",
    "\n",
    "| workload | ET | Speedup | \n",
    "| ------------|----|---------|\n",
    "| join_count-noopt  |    |         |\n",
    "| join_count-opt  |    |         |\n",
    "| join_count_solution-noopt   |    |         |\n",
    "| join_count_solution-opt  |    |         |\n",
    "\n",
    "**Note:**. You should _not_ fill in the table above.  You need use `display()` show your final data frame."
   ]
  },
  {
   "cell_type": "markdown",
   "metadata": {
    "cs203.is_response": true,
    "cs203.points": 1,
    "cs203.question_type": "correctness",
    "deletable": false,
    "editable": false,
    "tags": []
   },
   "source": [
    "<div class=\"alert alert-block alert-success\">\n",
    "<div class=\"question correctness points-8\">\n",
    "\n",
    "### Question 16 (Completeness)\n",
    "\n",
    "<div class=\"question-text\">\n",
    "Put your code to prepare the dataframe in the cell below.  The last two lines should render your dataframe and plot `ET` as a bar graph.  (You are allowed to hard-code numbers from your results into your code to compute speedup)\n",
    "    </div>\n",
    "\n",
    "</div>\n",
    "</div>"
   ]
  },
  {
   "cell_type": "code",
   "execution_count": null,
   "metadata": {
    "cs203.is_response": true,
    "cs203.points": 1,
    "cs203.question_type": "correctness",
    "deletable": false,
    "tags": []
   },
   "outputs": [],
   "source": [
    "# Your code here and the execution result\n",
    "# Your code for display the csv with function, ET, Speedup as columns in a dataframe\n",
    "\n",
    "# Your code for display the bar chart\n"
   ]
  },
  {
   "cell_type": "markdown",
   "metadata": {
    "deletable": false,
    "editable": false
   },
   "source": [
    "## Final Measurement\n",
    "\n",
    "When you are done, make sure your best solution is named `join_count_solution()` in `join_count.cpp`.  Then you can submit your code to the Gradescope autograder.  It will run the command given above and use the `ET` and `result` values from `autograde.csv` to assign your grade.\n",
    "\n",
    "Your grade is based on your speed up relative to the original version of `join_count()`.  The target speedup is 8x on the cluster (it's going to be 9x on gradescope).  So your score is `your_speedup/8 * 100.0`.  To get points, your code must also be correct.  The autograder will run some tests on your code against random inputs to check it's correctness.\n",
    "\n",
    "You can mimic exactly what the autograder will do with the command below.\n",
    "\n",
    "After you run it, the results will be in `autograde/autogradecsv` rather than `./benchmark.csv`.  This command builds and runs your code in a more controlled way by doing the following:\n",
    "\n",
    "1.  Ignores all the files in your repo except `join_count.cpp` and `config.make`.\n",
    "2.  Copies those files into a clean clone of the starter repo.\n",
    "3.  Builds `join_count.exe` from scratch.\n",
    "4.  And then runs the command above with `-f join_count_solution join_count`.\n",
    "5.  It then runs the `autograde.py` script to compute your grade."
   ]
  },
  {
   "cell_type": "code",
   "execution_count": null,
   "metadata": {
    "deletable": false,
    "editable": false,
    "tags": []
   },
   "outputs": [],
   "source": [
    "!cs203 run \"make clean; make join_count.exe\"\n",
    "!cs203 run \"./join_count.exe -r 1 -M 3300 -q 2048 -s 2097152 -f join_count join_count_solution -o autograde.csv\"\n",
    "render_csv(\"autograde.csv\")"
   ]
  },
  {
   "cell_type": "code",
   "execution_count": null,
   "metadata": {
    "deletable": false,
    "editable": false,
    "tags": []
   },
   "outputs": [],
   "source": [
    "!mkdir -p autograde; ./autograde.py --submission autograde --results autograde.json\n",
    "!cat autograde.json"
   ]
  },
  {
   "cell_type": "markdown",
   "metadata": {
    "deletable": false,
    "editable": false,
    "tags": []
   },
   "source": [
    "Don't forget to push your programming assignment to Github!"
   ]
  },
  {
   "cell_type": "code",
   "execution_count": null,
   "metadata": {
    "deletable": false,
    "editable": false,
    "tags": []
   },
   "outputs": [],
   "source": [
    "!git commit -m \"Yay! I finished the 2nd assignment!\" join_count.cpp\n",
    "!git push"
   ]
  },
  {
   "cell_type": "markdown",
   "metadata": {
    "deletable": false,
    "editable": false,
    "tags": []
   },
   "source": [
    "# Recap\n",
    "\n",
    "This assignment has collected real data to understand the how the performance equation, the power equation, and Amdahl's law apply to some simple programs.  This exploration presented the following questions:\n",
    "\n",
    "* Why does increasing the size of array change `CPI`? And why does this change occur so quickly?\n",
    "* How can clock rate affect `CPI`?\n",
    "* How and why do the datatypes we use change `IC` and  `CPI`?\n",
    "* Why does the order in which the program performs calculations affect `CPI`?\n",
    "* What's the difference between `throughput` and `latency`?\n",
    "\n",
    "Throughout the rest of the course and the assignments, we'll find answers to most of these and see how can use those answers to make better use of modern processors."
   ]
  },
  {
   "cell_type": "markdown",
   "metadata": {
    "deletable": false,
    "editable": false,
    "tags": []
   },
   "source": [
    "# Turning In the Assignment"
   ]
  },
  {
   "cell_type": "markdown",
   "metadata": {
    "deletable": false,
    "editable": false
   },
   "source": [
    "For each assignment, there are two different parts:\n",
    "\n",
    "1.  This notebook.\n",
    "2.  Your code of programming assignment.\n",
    "\n",
    "In addition, there's a post-assignment survey which is embedded below.\n",
    "\n",
    "## Turn in your notebook and programming assignmnet\n",
    "\n",
    "**Step 1:**  Save your workbook!!!"
   ]
  },
  {
   "cell_type": "code",
   "execution_count": 22,
   "metadata": {
    "deleteable": false,
    "editable": false,
    "tags": []
   },
   "outputs": [
    {
     "name": "stdout",
     "output_type": "stream",
     "text": [
      "Save your notebook!\n",
      "Save your notebook!\n",
      "Save your notebook!\n",
      "Save your notebook!\n",
      "Save your notebook!\n"
     ]
    }
   ],
   "source": [
    "!for i in 1 2 3 4 5; do echo Save your notebook!; sleep 1; done"
   ]
  },
  {
   "cell_type": "markdown",
   "metadata": {
    "deletable": false,
    "editable": false
   },
   "source": [
    "**Step 2:** After you complete the assignment, you will need to turn it in by creating a version of the notebook that only contains your answers. Run this command:"
   ]
  },
  {
   "cell_type": "code",
   "execution_count": 23,
   "metadata": {
    "deleteable": false,
    "editable": false,
    "tags": []
   },
   "outputs": [
    {
     "name": "stdout",
     "output_type": "stream",
     "text": [
      "Wrote to Assignment.turnin.ipynb\n",
      "-rw-r--r-- 1 rtang069 ucr 57K Apr 16 23:45 Assignment.turnin.ipynb\n"
     ]
    }
   ],
   "source": [
    "!cs203 turnin Assignment.ipynb\n",
    "!ls -lh Assignment.turnin.ipynb"
   ]
  },
  {
   "cell_type": "markdown",
   "metadata": {
    "deletable": false,
    "editable": false
   },
   "source": [
    "The date in the above file listing should show that you just created `Assignment.turnin.ipynb`\n",
    "\n",
    "**Step 3:**  Click on this link to open it to see that looks good: [./Assignment.turnin.ipynb](./Assignment.turnin.ipynb)\n",
    "You may need to revise your notebook and repeat Step 1 to 3 if something went wrong."
   ]
  },
  {
   "cell_type": "markdown",
   "metadata": {
    "deletable": false,
    "editable": false
   },
   "source": [
    "**Step 4**: Commit everything. Please run the following command."
   ]
  },
  {
   "cell_type": "code",
   "execution_count": 24,
   "metadata": {
    "deletable": false,
    "editable": false
   },
   "outputs": [
    {
     "name": "stdout",
     "output_type": "stream",
     "text": [
      "On branch main\n",
      "Your branch is ahead of 'origin/main' by 2 commits.\n",
      "  (use \"git push\" to publish your local commits)\n",
      "\n",
      "Untracked files:\n",
      "  (use \"git add <file>...\" to include in what will be committed)\n",
      "\t\u001b[31mAssignment.backup.ipynb\u001b[m\n",
      "\n",
      "nothing added to commit but untracked files present (use \"git add\" to track)\n",
      "ERROR: Permission to CS203UCR/2024sp-cs203-performance-starter.git denied to ravitheja990.\n",
      "fatal: Could not read from remote repository.\n",
      "\n",
      "Please make sure you have the correct access rights\n",
      "and the repository exists.\n"
     ]
    }
   ],
   "source": [
    "!git add -f Assignment.turnin.ipynb\n",
    "!git commit -am \"Yay! I am ready to turn in!\"\n",
    "!git push"
   ]
  },
  {
   "cell_type": "markdown",
   "metadata": {
    "deletable": false,
    "editable": false
   },
   "source": [
    "**Step 5**: \n",
    "Submit through gradescope\n",
    "You'll turn in your programming assignment by providing gradescope with your github repo of this assignment.   It'll run the autograder and return the results."
   ]
  },
  {
   "cell_type": "markdown",
   "metadata": {
    "deletable": false,
    "tags": []
   },
   "source": [
    "## Post-assignment Survey\n",
    "\n",
    "Please fill out this survey when you've finished the assignment.  You can only submit once.  Be sure to press \"submit\", your answers won't be saved in the notebook.\n",
    "\n",
    "https://forms.gle/3NBGsaYyNAtMKJ6R9"
   ]
  },
  {
   "cell_type": "code",
   "execution_count": null,
   "metadata": {
    "deletable": false,
    "tags": []
   },
   "outputs": [],
   "source": [
    "from IPython.display import IFrame\n",
    "IFrame('https://forms.gle/3NBGsaYyNAtMKJ6R9', width=700, height=350)"
   ]
  },
  {
   "cell_type": "code",
   "execution_count": null,
   "metadata": {},
   "outputs": [],
   "source": []
  }
 ],
 "metadata": {
  "kernelspec": {
   "display_name": "Python 3",
   "language": "python",
   "name": "python3"
  },
  "language_info": {
   "codemirror_mode": {
    "name": "ipython",
    "version": 3
   },
   "file_extension": ".py",
   "mimetype": "text/x-python",
   "name": "python",
   "nbconvert_exporter": "python",
   "pygments_lexer": "ipython3",
   "version": "3.8.6"
  },
  "toc": {
   "base_numbering": 1,
   "nav_menu": {},
   "number_sections": true,
   "sideBar": true,
   "skip_h1_title": false,
   "title_cell": "Table of Contents",
   "title_sidebar": "Contents",
   "toc_cell": false,
   "toc_position": {
    "height": "calc(100% - 180px)",
    "left": "10px",
    "top": "150px",
    "width": "347.188px"
   },
   "toc_section_display": true,
   "toc_window_display": true
  },
  "toc-autonumbering": true,
  "vscode": {
   "interpreter": {
    "hash": "610c699f0cd8c4f129acd9140687fff6866bed0eb8e82f249fc8848b827b628c"
   }
  },
  "widgets": {
   "application/vnd.jupyter.widget-state+json": {
    "state": {},
    "version_major": 2,
    "version_minor": 0
   }
  }
 },
 "nbformat": 4,
 "nbformat_minor": 4
}
