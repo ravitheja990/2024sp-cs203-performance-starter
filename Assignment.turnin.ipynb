{
 "cells": [
  {
   "cell_type": "markdown",
   "metadata": {
    "cs203.is_response": true,
    "deletable": false
   },
   "source": [
    "<div class=\"namebox\">    \n",
    "Double Click to edit and enter your\n",
    "\n",
    "1.  Name Ravi Theja Tangirala\n",
    "2.  Student ID 862466314\n",
    "3.  @ucr.edu email address rtang069@ucr.edu\n",
    "    \n",
    "</div>"
   ]
  },
  {
   "cell_type": "markdown",
   "metadata": {
    "cs203.is_response": true,
    "cs203.points": 1,
    "cs203.question_type": "completeness",
    "deletable": false,
    "editable": false,
    "tags": []
   },
   "source": [
    "<div class=\"alert alert-block alert-success\"><div class=\"question completeness\">\n",
    "\n",
    "### Question 1 (Completeness)\n",
    "    \n",
    "In a moment, you'll see four graphs that show how each term of the performance equation changes as we increase `--reps`.  What _shape_ do you think each curve will have (linear? curved?) and what _direction_ will it go (increasing? Decreasing? flat?)?  For each term, predict the ratio between it's value at 100 and 25 (i.e., `value_at_100/value_at_25`).\n",
    "    \n",
    "</div>\n",
    "</div>"
   ]
  },
  {
   "cell_type": "code",
   "execution_count": null,
   "metadata": {
    "cs203.is_response": true,
    "deletable": false,
    "tags": []
   },
   "outputs": [],
   "source": [
    "df = IC_avg_and_combine(\"25.csv\", \"50.csv\", \"100.csv\") display_mono(df)\\ \n",
    "plotPE(df=df, lines=True, what=[ ('reps', \"IC\"), (\"reps\", \"CPI\"), (\"reps\",\\ \n",
    "\"CT\"), (\"reps\", \"ET\") ], columns=4) df[[\"reps\"] +  columns]"
   ]
  },
  {
   "cell_type": "markdown",
   "metadata": {
    "cs203.is_response": true,
    "cs203.points": 1,
    "cs203.question_type": "completeness",
    "deletable": false
   },
   "source": [
    "<div class=\"alert alert-block alert-success\"> \n",
    "Answer:\n",
    "<div class=\"answer\">\n",
    "\n",
    "|                        | IC      | CPI | CT | ET |\n",
    "|------------------------|---------|-----|----|----|\n",
    "|Shape                   | [PUT YOUR ANSWERS IN THE TABLE]       |     |    |    | \n",
    "|Direction               |         |     |    |    |\n",
    "|100 vs 25 ratio         |         |     |    |    |    \n",
    "\n",
    "</div>\n",
    "</div>"
   ]
  },
  {
   "cell_type": "markdown",
   "metadata": {
    "cs203.is_response": true,
    "cs203.points": 4,
    "cs203.question_type": "correctness",
    "deletable": false,
    "editable": false
   },
   "source": [
    "<div class=\"alert alert-block alert-success\">\n",
    "    <div class=\"question correctness points-4\">\n",
    "\n",
    "### Question 2 (Correctness)\n",
    "\n",
    "Use the code cell below to compute the actual ratio of the values at `reps = 100` and `reps = 25` and enter them in the table below.  How does these results differ from what you expected?   \n",
    "    </div>\n",
    "</div>"
   ]
  },
  {
   "cell_type": "code",
   "execution_count": null,
   "metadata": {
    "cs203.is_response": true,
    "cs203.points": 4,
    "cs203.question_type": "correctness",
    "deletable": false,
    "tags": []
   },
   "outputs": [],
   "source": [
    "# Your code here"
   ]
  },
  {
   "cell_type": "markdown",
   "metadata": {
    "cs203.is_response": true,
    "cs203.points": 4,
    "cs203.question_type": "correctness",
    "deletable": false
   },
   "source": [
    "<div class=\"alert alert-block alert-success\">\n",
    "Answer:\n",
    "<div class=\"answer\">\n",
    "\n",
    "|                     | IC      | CPI | CT | ET |\n",
    "|---------------------|---------|-----|----|----|\n",
    "|100 vs 25 reps ratio | <PUT YOUR ANSWER IN THE TABLE> \n",
    "|Differences compared to your expectations (if any):| | | | |\n",
    "\n",
    "\n",
    "\n",
    "</div>\n",
    "</div>"
   ]
  },
  {
   "cell_type": "markdown",
   "metadata": {
    "cs203.is_response": true,
    "cs203.points": 1,
    "cs203.question_type": "completeness",
    "deletable": false,
    "editable": false,
    "tags": []
   },
   "source": [
    "<div class=\"alert alert-block alert-success\"><div class=\"question completeness\">\n",
    "\n",
    "### Question 3 (Completeness)\n",
    "\n",
    "\n",
    "\n",
    "This time, the four graphs will show each term of the performance equation changes as we increase `-size`.  What _shape_ do you think each curve will have (linear? curved?) and what _direction_ will it go (increasing? Decreasing? flat?)? For each term, predict the ratio between it's value at 20,480,000 and its value at 320,000. Compute the actual ratio of the values at 20,480,000 and 320,000.  How does these results differ from what you expected? \n",
    "\n",
    "</div>\n",
    "</div>"
   ]
  },
  {
   "cell_type": "code",
   "execution_count": null,
   "metadata": {
    "cs203.is_response": true,
    "deletable": false,
    "editable": false,
    "tags": []
   },
   "outputs": [],
   "source": [
    " plotPE(\"array_size.csv\", lines=True, what=[ ('size', \"IC\"), (\"size\", \"CPI\"),\\ \n",
    "(\"size\", \"CT\"),(\"size\", \"ET\")], columns=5, average_by=\"size\")\\ \n",
    "display_mono(render_csv(\"array_size.csv\", columns=columns, average_by=\"size\"))"
   ]
  },
  {
   "cell_type": "markdown",
   "metadata": {
    "cs203.is_response": true,
    "cs203.points": 1,
    "cs203.question_type": "completeness",
    "deletable": false
   },
   "source": [
    "<div class=\"alert alert-block alert-success\">\n",
    "<div class=\"answer\">\n",
    "\n",
    "**Answer**\n",
    "\n",
    "|                        | IC      | CPI | CT | ET |\n",
    "|------------------------|---------|-----|----|----|\n",
    "|Shape                   |         |     |    |    | \n",
    "|Direction               |         |     |    |    |\n",
    "|20,480,000 vs 320,000 ratio (your expectation) |         |     |    |    |    \n",
    "|20,480,000 vs 320,000 ratio (real measurememnt) |         |     |    |    |\n",
    "\n",
    "</div>\n",
    "</div>"
   ]
  },
  {
   "cell_type": "markdown",
   "metadata": {
    "cs203.is_response": true,
    "cs203.points": 1,
    "cs203.question_type": "completeness",
    "deletable": false,
    "tags": []
   },
   "source": [
    "<div class=\"alert alert-block alert-success\">\n",
    "<div class=\"question completeness\">\n",
    "\n",
    "### Question 4 (Completeness)\n",
    "\n",
    "\n",
    "We are going to plot four graphs that show how each term of the performance equation changes as we increase clock rate.  What _shape_ do you think each curve will have (linear? curved?) and what _direction_ will it go (increasing? Decreasing? flat?)?  For each term, predict the ratio between its value at 3300MHz and its value at 1700Mhz. Compute the actual ratio of the values at 3300MHz and 1700MHZ. How do these results differ from what you expected? How much speedup does double doubling the clock rate provide?\n",
    "\n",
    "</div>\n",
    "</div>"
   ]
  },
  {
   "cell_type": "code",
   "execution_count": null,
   "metadata": {
    "cs203.is_response": true,
    "deletable": false,
    "editable": false,
    "tags": []
   },
   "outputs": [],
   "source": [
    "plotPE(\"cycle_time.csv\", lines=True, what=[ ('cmdlineMHz', \"IC\"), (\"cmdlineMHz\",\\ \n",
    "\"CPI\"), (\"cmdlineMHz\", \"CT\"), (\"cmdlineMHz\", \"ET\") ], columns=4,\\ \n",
    "average_by=\"cmdlineMHz\") display_mono(render_csv(\"cycle_time.csv\",\\ \n",
    "columns=columns, average_by=\"cmdlineMHz\"))"
   ]
  },
  {
   "cell_type": "markdown",
   "metadata": {
    "cs203.is_response": true,
    "cs203.points": 1,
    "cs203.question_type": "completeness",
    "deletable": false
   },
   "source": [
    "<div class=\"alert alert-block alert-success\">\n",
    "Answer:\n",
    "    <div class=\"answer\">\n",
    "\n",
    "|                     | IC      | CPI | CT | ET | \n",
    "|---------------------|---------|-----|----|----|\n",
    "|Shape                |         |     |    |    | \n",
    "|Direction            |         |     |    |    |\n",
    "|3300MHz/1700Mhz ratio (your expectation) |         |     |    |    |    \n",
    "|3300MHz/1700Mhz ratio (real measurement) |         |     |    |    |   \n",
    "        \n",
    "        \n",
    "Speedup = ?\n",
    "\n",
    "    \n",
    "</div>\n",
    "</div>"
   ]
  },
  {
   "cell_type": "markdown",
   "metadata": {
    "cs203.is_response": true,
    "cs203.points": 1,
    "cs203.question_type": "completeness",
    "deletable": false,
    "editable": false
   },
   "source": [
    "<div class=\"alert alert-block alert-success\"><div class=\"question completeness\">\n",
    "\n",
    "### Question 5 (Completeness)\n",
    "\n",
    "What was your expectations on the results? How did the results for each term in the CPU performance equation differ from your predictions (if they did)?\n",
    "\n",
    "</div>\n",
    "    <div>\n",
    "        "
   ]
  },
  {
   "cell_type": "markdown",
   "metadata": {
    "cs203.is_response": true,
    "cs203.points": 1,
    "cs203.question_type": "completeness",
    "deletable": false
   },
   "source": [
    "<div class=\"alert alert-block alert-success\"><div class=\"question completeness\">    \n",
    "<div class=\"answer\">\n",
    "\n",
    "**IC:**\n",
    "\n",
    "**CPI:**\n",
    "\n",
    "**CT:**\n",
    "\n",
    "**ET:**\n",
    "    \n",
    "</div>\n",
    "    \n",
    "</div>\n",
    "</div>"
   ]
  },
  {
   "cell_type": "markdown",
   "metadata": {
    "cs203.is_response": true,
    "cs203.question_type": "optional",
    "deletable": false,
    "editable": false
   },
   "source": [
    "<div class=\"alert alert-block alert-success\"><div class=\"question optional\">\n",
    "\n",
    "### Question 6 (Optional)</h3> \n",
    " \n",
    "In `microbench.cpp` there are also `baseline_char()` and `baseline_float()`. Copy the code cells above and modify them to see how those functions compare.  What did you find?\n",
    "    \n",
    "</div>\n",
    "</div>"
   ]
  },
  {
   "cell_type": "markdown",
   "metadata": {
    "cs203.is_response": true,
    "cs203.question_type": "optional",
    "deletable": false
   },
   "source": [
    "<div class=\"alert alert-block alert-success\">  \n",
    "<div class=\"answer\">\n",
    "Answer:\n",
    "    \n",
    "</div>\n",
    "</div>    "
   ]
  },
  {
   "cell_type": "markdown",
   "metadata": {
    "cs203.is_response": true,
    "cs203.points": 1,
    "cs203.question_type": "correctness",
    "deletable": false,
    "editable": false
   },
   "source": [
    "<div class=\"alert alert-block alert-success\"><div class=\"question completeness\">\n",
    "\n",
    "### Question 7 (Completeness)\n",
    "\n",
    "  \n",
    "If `size` is equal to 8,388,608 how many times will \"This Line\" execute in each function?  Do you think one will be faster than the other?  Why?\n",
    "    \n",
    "</div>"
   ]
  },
  {
   "cell_type": "markdown",
   "metadata": {
    "cs203.is_response": true,
    "cs203.points": 1,
    "cs203.question_type": "completeness",
    "deletable": false
   },
   "source": [
    "<div class=\"alert alert-block alert-success\">  \n",
    "Answer:\n",
    "<div class=\"answer\">\n",
    "        \n",
    "**How many times does `This Line` execute in `matrix_row_major()`:**\n",
    "\n",
    "\n",
    "    \n",
    "**How many times does `This Line` execute in `matrix_column_major()`:**\n",
    "\n",
    "\n",
    "    \n",
    "**Is there any difference in the \"Big-O\" running time of these two functions?**\n",
    "\n",
    "\n",
    "    \n",
    "**Do you think one will be faster than the other?  Why?**\n",
    "</div>\n",
    "</div>"
   ]
  },
  {
   "cell_type": "markdown",
   "metadata": {
    "cs203.is_response": true,
    "cs203.points": 1,
    "cs203.question_type": "completeness",
    "deletable": false,
    "editable": false
   },
   "source": [
    "<div class=\"alert alert-block alert-success\"><div class=\"question completeness\">\n",
    "\n",
    "### Question 8 (Correctness)\n",
    "\n",
    "\n",
    "Calculate the speedup of `matrix_row_major` over `matrix_column_major`.  Why is this result surprising?\n",
    "\n",
    "</div>\n",
    "</div>"
   ]
  },
  {
   "cell_type": "code",
   "execution_count": null,
   "metadata": {
    "cs203.is_response": true,
    "deleteable": false,
    "tags": []
   },
   "outputs": [],
   "source": [
    "plotPEBar(\"matrix.csv\", what=[ ('function', \"IC\"), (\"function\", \"CPI\"),\\ \n",
    "(\"function\", \"CT\"), (\"function\", \"ET\") ], average_by=\"function\", columns=4,\\ \n",
    "skip=2) display_mono(render_csv(\"matrix.csv\", columns=[\"IC\", \"CPI\", \"CT\", \"ET\"],\\ \n",
    "average_by=\"function\"))"
   ]
  },
  {
   "cell_type": "markdown",
   "metadata": {
    "cs203.is_response": true,
    "cs203.points": 1,
    "cs203.question_type": "completeness",
    "deletable": false
   },
   "source": [
    "<div class=\"alert alert-block alert-success\">\n",
    "Answer:\n",
    "    <div class=\"answer\">\n",
    "\n",
    "**Speedup:**\n",
    "    \n",
    "\n",
    "    \n",
    "**Why is this surprising?:**\n",
    "\n",
    "\n",
    "</div>\n",
    "</div>"
   ]
  },
  {
   "cell_type": "markdown",
   "metadata": {
    "cs203.is_response": true,
    "cs203.points": 1,
    "cs203.question_type": "completeness",
    "deletable": false,
    "editable": false
   },
   "source": [
    "<div class=\"alert alert-block alert-success\"><div class=\"question completeness\">\n",
    "\n",
    "### Question 9 (Completeness)\n",
    "\n",
    "\n",
    "Based on the data you run, describe in words what affect the optimizations had on the code and the value of each term of the PE. \n",
    "    \n",
    "</div>\n",
    "</div>"
   ]
  },
  {
   "cell_type": "code",
   "execution_count": null,
   "metadata": {
    "cs203.is_response": true,
    "deletable": false,
    "editable": false
   },
   "outputs": [],
   "source": [
    "plotPEBar(\"opt.csv\", what=[ ('function', \"IC\"), (\"function\", \"CPI\"),\\ \n",
    "(\"function\", \"CT\"), (\"function\", \"ET\") ], columns=4, average_by=\"function\")\\ \n",
    "display_mono(render_csv(\"opt.csv\", columns=[\"function\",\"IC\", \"CPI\", \"CT\",\\ \n",
    "\"ET\",], average_by=\"function\"))"
   ]
  },
  {
   "cell_type": "markdown",
   "metadata": {
    "cs203.is_response": true,
    "cs203.points": 1,
    "cs203.question_type": "completeness",
    "deletable": false
   },
   "source": [
    "<div class=\"alert alert-block alert-success\">  \n",
    "<div class=\"answer\">\n",
    "    \n",
    "Answer -- how compiler optimization affects?\n",
    "\n",
    "**IC:**\n",
    "    \n",
    "**CPI:**\n",
    "    \n",
    "**CT:**\n",
    "\n",
    "**ET:**\n",
    "   \n",
    "    \n",
    "\n",
    "</div>\n",
    "</div>"
   ]
  },
  {
   "cell_type": "code",
   "execution_count": null,
   "metadata": {
    "cs203.is_response": true,
    "deletable": false,
    "editable": false
   },
   "outputs": [],
   "source": [
    "plotPEBar(\"opt.csv\", what=[ ('function', \"IC\"), (\"function\", \"CPI\"),\\ \n",
    "(\"function\", \"CT\"), (\"function\", \"ET\") ], columns=4, average_by=\"function\")\\ \n",
    "display_mono(render_csv(\"opt.csv\", columns=[\"function\",\"IC\", \"CPI\", \"CT\",\\ \n",
    "\"ET\",], average_by=\"function\"))"
   ]
  },
  {
   "cell_type": "markdown",
   "metadata": {
    "cs203.is_response": true,
    "cs203.points": 1,
    "cs203.question_type": "completeness",
    "deletable": false,
    "editable": false
   },
   "source": [
    "<div class=\"alert alert-block alert-success\"><div class=\"question completeness\">\n",
    "\n",
    "### Question 10 (Correctness)\n",
    "\n",
    "\n",
    "Based on the data above, please compute the speedup of using GPU over CPU on `baseline_int` function. \n",
    "    \n",
    "</div>\n",
    "</div>"
   ]
  },
  {
   "cell_type": "markdown",
   "metadata": {
    "cs203.is_response": true,
    "cs203.points": 1,
    "cs203.question_type": "completeness",
    "deletable": false
   },
   "source": [
    "<div class=\"alert alert-block alert-success\">  \n",
    "<div class=\"answer\">\n",
    "    \n",
    "Speedup -- please show your work\n",
    "   \n",
    "    \n",
    "\n",
    "</div>\n",
    "</div>"
   ]
  },
  {
   "cell_type": "code",
   "execution_count": null,
   "metadata": {
    "cs203.is_response": true,
    "deletable": false,
    "editable": false
   },
   "outputs": [],
   "source": [
    "display_mono(render_csv(\"everything.csv\", columns=[\"IC\", \"CPI\", \"CT\", \"ET\"],\\ \n",
    "average_by=\"function\"))"
   ]
  },
  {
   "cell_type": "code",
   "execution_count": null,
   "metadata": {
    "cs203.is_response": true,
    "deletable": false,
    "editable": false,
    "tags": []
   },
   "outputs": [],
   "source": [
    " display(render_csv(\"matrix.csv\", columns=columns, average_by=\"function\"))\\ \n",
    "display(render_csv(\"opt.csv\", columns=columns, average_by=\"function\"))"
   ]
  },
  {
   "cell_type": "markdown",
   "metadata": {
    "cs203.is_response": true,
    "cs203.points": 4,
    "cs203.question_type": "correctness",
    "deletable": false,
    "editable": false
   },
   "source": [
    "<div class=\"alert alert-block alert-success\"><div class=\"question correctness points-4\">\n",
    "\n",
    "### Question 11 (Correctness)\n",
    "\n",
    "\n",
    "Based on the data you collected in Question 8 and 10 of this assignment for the performance of `baseline_int()`, `baseline_int_cuda()`, `matrix_column_major()`, and `matrix_row_major()`, use Amdahl's law to predict the speedup of each approach.  (Show your work, including the values of `x` and `S` and how you computed them.)\n",
    "\n",
    "**Option 1 (Replacing `baseline_int()` with `baseline_int_cuda()`) Speedup:**\n",
    "\n",
    "**Option 2 (Replacing `matrix_column_major()` with `matrix_row_major()`) Speedup:**\n",
    "</div>\n",
    "</div>\n",
    "    "
   ]
  },
  {
   "cell_type": "markdown",
   "metadata": {
    "cs203.is_response": true,
    "cs203.points": 4,
    "cs203.question_type": "correctness",
    "deletable": false
   },
   "source": [
    "<div class=\"alert alert-block alert-success\">\n",
    "\n",
    "Answer:\n",
    "\n",
    "<div class=\"answer\">\n",
    "\n",
    "**Option 1 (Replacing `baseline_int()` with `baseline_int_cuda()`) Speedup:**\n",
    "\n",
    "x = \n",
    "    \n",
    "S = (Hint: you computed this in the previous question) \n",
    "\n",
    "S_tot = \n",
    "\n",
    "\n",
    "\n",
    "\n",
    "\n",
    "**Option 2 (Replacing `matrix_column_major()` with `matrix_row_major()`) Speedup:**\n",
    "\n",
    "x = \n",
    "    \n",
    "S = (Hint: you computed this in the previous question)\n",
    "\n",
    "S_tot = \n",
    "\n",
    "\n",
    "\n",
    "\n",
    "\n",
    "\n",
    "</div>\n",
    "</div>"
   ]
  },
  {
   "cell_type": "code",
   "execution_count": null,
   "metadata": {
    "cs203.is_response": true,
    "deletable": false,
    "editable": false
   },
   "outputs": [],
   "source": [
    "display_mono(render_csv(\"options.csv\", columns=[\"IC\", \"CPI\", \"CT\", \"ET\"],\\ \n",
    "average_by=\"function\"))"
   ]
  },
  {
   "cell_type": "markdown",
   "metadata": {
    "cs203.is_response": true,
    "cs203.points": 2,
    "cs203.question_type": "correctness",
    "deletable": false,
    "editable": false
   },
   "source": [
    "<div class=\"alert alert-block alert-success\"><div class=\"question correctness points-2\">\n",
    "\n",
    "\n",
    "### Question 12 (Correctness)\n",
    "\n",
    "\n",
    "What was the actual speedup for each option?  Did Amdahl's law get it right? \n",
    "\n",
    "**Option 1 speedup:**\n",
    "\n",
    "\n",
    "    \n",
    "**Option 2 speedup:**\n",
    "\n",
    "\n",
    "\n",
    "**Did Amdahl's Law get it right?:** \n",
    "</div>\n",
    "</div>"
   ]
  },
  {
   "cell_type": "markdown",
   "metadata": {
    "cs203.is_response": true,
    "cs203.points": 2,
    "cs203.question_type": "correctness",
    "deletable": false
   },
   "source": [
    "<div class=\"alert alert-block alert-success\">\n",
    "\n",
    "**Answer:**\n",
    "\n",
    "<div class=\"answer\">\n",
    "    \n",
    "\n",
    "**Option 1 speedup:**\n",
    "\n",
    "\n",
    "    \n",
    "**Option 2 speedup:**\n",
    "\n",
    "\n",
    "\n",
    "**Did Amdahl's Law get it right?:** \n",
    "\n",
    "\n",
    "    \n",
    "</div>\n",
    "</div>\n",
    "</div>\n",
    "    "
   ]
  },
  {
   "cell_type": "markdown",
   "metadata": {
    "cs203.is_response": true,
    "cs203.points": 2,
    "cs203.question_type": "correctness",
    "deletable": false,
    "editable": false
   },
   "source": [
    "<div class=\"alert alert-block alert-success\"><div class=\"question correctness points-2\">\n",
    "\n",
    "\n",
    "### Question 13 (Correctness)\n",
    "\n",
    "\n",
    "Read through the code of ```baseline_double``` function carefully, what is the total ammount of \"floating point ALU operations\" that  ```baseline_double``` function will perform when ```size``` is 8388608?\n",
    "</div>\n",
    "</div>"
   ]
  },
  {
   "cell_type": "markdown",
   "metadata": {
    "cs203.is_response": true,
    "cs203.points": 2,
    "cs203.question_type": "correctness",
    "deletable": false
   },
   "source": [
    "<div class=\"alert alert-block alert-success\">\n",
    "Answer:\n",
    "\n",
    "<div class=\"answer\">\n",
    "\n",
    "\n",
    "**What is the total ammount of \"floating point ALU operations when size is 8388608**\n",
    "\n",
    "    \n",
    "</div>\n",
    "</div>\n",
    "</div>\n",
    "    "
   ]
  },
  {
   "cell_type": "code",
   "execution_count": null,
   "metadata": {
    "cs203.is_response": true,
    "deletable": false,
    "editable": false
   },
   "outputs": [],
   "source": [
    "plotPEBar(\"gpu_cpu.csv\", what=[ ('function', \"IC\"), (\"function\", \"CPI\"),\\ \n",
    "(\"function\", \"CT\"), (\"function\", \"ET\") ],            columns=4,\\ \n",
    "average_by=\"function\") display_mono(render_csv(\"gpu_cpu.csv\", columns=[\"IC\",\\ \n",
    "\"CPI\", \"CT\", \"ET\",], average_by=\"function\"))"
   ]
  },
  {
   "cell_type": "markdown",
   "metadata": {
    "cs203.is_response": true,
    "cs203.points": 4,
    "cs203.question_type": "correctness",
    "deletable": false,
    "editable": false
   },
   "source": [
    "<div class=\"alert alert-block alert-success\"><div class=\"question correctness points-5\">\n",
    "\n",
    "### Question 14 (Correctness)\n",
    "\n",
    "\n",
    "Does the FLOPS reflects the performance? \n",
    "\n",
    "**How many \"FLOPS\" (floating point operations per second) of the CPU when performing `baseline_double()` function with size as 8388608? :**\n",
    "\n",
    "**How many \"FLOPS\" (floating point operations per second) of the GPU when performing `baseline_double_cuda()` function with size as 8388608? :**\n",
    "\n",
    "**Compare the ratio of FLOPS and latency of running `baseline_double()` and `baseline_double_cuda()` functions, do they match? Why and why not?**\n",
    "</div>    \n",
    "</div>"
   ]
  },
  {
   "cell_type": "markdown",
   "metadata": {
    "cs203.is_response": true,
    "cs203.points": 1,
    "cs203.question_type": "correctness",
    "deletable": false
   },
   "source": [
    "<div class=\"alert alert-block alert-success\">\n",
    "Answer:\n",
    "<div class=\"answer\">\n",
    "\n",
    "\n",
    "|function                    | floating point per second (FLOPS) |FLOPS ratio | ET | Speedup |\n",
    "|----------------------------|----------------------------|-----|---|---|\n",
    "| `baseline_double()`        |                            |   1 |  | 1 |\n",
    "| `baseline_double_cuda()` |                            |     |  |   |\n",
    "\n",
    "\n",
    "**Compare the ratio of FLOPS and latency of running `baseline_double()` and `baseline_double_cuda()` functions, do they match? Why and why not?**\n",
    "</div>\n",
    "</div>"
   ]
  },
  {
   "cell_type": "code",
   "execution_count": null,
   "metadata": {
    "cs203.is_response": true,
    "deletable": false,
    "editable": false
   },
   "outputs": [],
   "source": [
    "plotPEBar(\"gpu_cpu_65536.csv\", what=[ ('function', \"IC\"), (\"function\", \"CPI\"),\\ \n",
    "(\"function\", \"CT\"), (\"function\", \"ET\") ],            columns=4,\\ \n",
    "average_by=\"function\") display_mono(render_csv(\"gpu_cpu_65536.csv\",\\ \n",
    "columns=[\"IC\", \"CPI\", \"CT\", \"ET\",], average_by=\"function\"))"
   ]
  },
  {
   "cell_type": "markdown",
   "metadata": {
    "cs203.is_response": true,
    "cs203.points": 1,
    "cs203.question_type": "correctness",
    "deletable": false,
    "editable": false
   },
   "source": [
    "<div class=\"alert alert-block alert-success\"><div class=\"question correctness points-2\">\n",
    "\n",
    "### Question 15 (Correctness)\n",
    "\n",
    "Does FLOPS reflects the latency when sizes changes?\n",
    "    \n",
    "**Compare the latency of running `baseline_double()` and `baseline_double_cuda()` with size as 65536, does FLOPS in Q14\n",
    "reflect the performance? Why or why not?**\n",
    "</div>\n",
    "</div>"
   ]
  },
  {
   "cell_type": "markdown",
   "metadata": {
    "cs203.is_response": true,
    "cs203.points": 1,
    "cs203.question_type": "correctness",
    "deletable": false
   },
   "source": [
    "<div class=\"alert alert-block alert-success\">\n",
    "Answer:\n",
    "<div class=\"answer\">\n",
    "\n",
    "**Compare the latency of running `baseline_double()` and `baseline_double_cuda()` with size as 65536, does FLOPS in Q14 reflect the performance? Why or why not?**\n",
    "</div>\n",
    "</div>"
   ]
  },
  {
   "cell_type": "markdown",
   "metadata": {
    "cs203.is_response": true,
    "cs203.points": 1,
    "cs203.question_type": "correctness",
    "deletable": false,
    "editable": false,
    "tags": []
   },
   "source": [
    "<div class=\"alert alert-block alert-success\">\n",
    "<div class=\"question correctness points-8\">\n",
    "\n",
    "### Question 16 (Completeness)\n",
    "\n",
    "<div class=\"question-text\">\n",
    "Put your code to prepare the dataframe in the cell below.  The last two lines should render your dataframe and plot `ET` as a bar graph.  (You are allowed to hard-code numbers from your results into your code to compute speedup)\n",
    "    </div>\n",
    "\n",
    "</div>\n",
    "</div>"
   ]
  },
  {
   "cell_type": "code",
   "execution_count": null,
   "metadata": {
    "cs203.is_response": true,
    "cs203.points": 1,
    "cs203.question_type": "correctness",
    "deletable": false,
    "tags": []
   },
   "outputs": [],
   "source": [
    "# Your code here and the execution result # Your code for display the csv with\\ \n",
    "function, ET, Speedup as columns in a dataframe  # Your code for display the bar\\ \n",
    "chart"
   ]
  }
 ],
 "metadata": {
  "kernelspec": {
   "display_name": "Python 3",
   "language": "python",
   "name": "python3"
  },
  "language_info": {
   "codemirror_mode": {
    "name": "ipython",
    "version": 3
   },
   "file_extension": ".py",
   "mimetype": "text/x-python",
   "name": "python",
   "nbconvert_exporter": "python",
   "pygments_lexer": "ipython3",
   "version": "3.8.6"
  },
  "toc": {
   "base_numbering": 1,
   "nav_menu": {},
   "number_sections": true,
   "sideBar": true,
   "skip_h1_title": false,
   "title_cell": "Table of Contents",
   "title_sidebar": "Contents",
   "toc_cell": false,
   "toc_position": {
    "height": "calc(100% - 180px)",
    "left": "10px",
    "top": "150px",
    "width": "347.188px"
   },
   "toc_section_display": true,
   "toc_window_display": true
  },
  "toc-autonumbering": true,
  "vscode": {
   "interpreter": {
    "hash": "610c699f0cd8c4f129acd9140687fff6866bed0eb8e82f249fc8848b827b628c"
   }
  },
  "widgets": {
   "application/vnd.jupyter.widget-state+json": {
    "state": {},
    "version_major": 2,
    "version_minor": 0
   }
  }
 },
 "nbformat": 4,
 "nbformat_minor": 4
}
